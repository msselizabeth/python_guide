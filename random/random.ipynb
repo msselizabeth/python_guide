{
 "cells": [
  {
   "cell_type": "markdown",
   "id": "92658e60",
   "metadata": {},
   "source": [
    "### Random\n",
    "\n",
    "The most popular functions:\n",
    "- `random.choice(list)`—random choice of 1 item\n",
    "- `random.shuffle(list)`—return a modified list of items\n",
    "- `random.randint(from, to)`—random choice of an integer in a range of values\n",
    "- `random.sample(list,k)`—random choicof `k` ***unique*** items\n",
    "- `random.choices(list,k)`—random choice of `k` items"
   ]
  },
  {
   "cell_type": "code",
   "execution_count": 2,
   "id": "7d90c7e5",
   "metadata": {},
   "outputs": [],
   "source": [
    "import random"
   ]
  },
  {
   "cell_type": "code",
   "execution_count": 25,
   "id": "b48d4fc4",
   "metadata": {},
   "outputs": [
    {
     "name": "stdout",
     "output_type": "stream",
     "text": [
      "Isaac\n",
      "['Isaac', 'Alice', 'Bob']\n",
      "['Fiona', 'Alice', 'Ethan', 'Julia', 'Hannah', 'Isaac', 'Charlie', 'Julia', 'Julia', 'Bob', 'Bob', 'Fiona', 'Charlie']\n",
      "['Bob', 'Charlie', 'Ethan']\n"
     ]
    }
   ],
   "source": [
    "# Random 1 choice \n",
    "names = [\"Alice\", \"Bob\", \"Charlie\", \"Diana\", \"Ethan\", \"Fiona\", \"George\", \"Hannah\", \"Isaac\", \"Julia\"] # len 10\n",
    "\n",
    "choice = random.choice(names)\n",
    "print(choice)\n",
    "# Random a few names\n",
    "k3 = random.choices(names, k=3)\n",
    "print(k3)\n",
    "k13 = random.choices(names, k=13) # will generate with duplicates \n",
    "print(k13)\n",
    "\n",
    "#Random + unique\n",
    "k3_u = random.sample(names, k=3)\n",
    "print(k3_u)\n",
    "\n",
    "# k13_u = random.sample(names, k=13) # ValueError\n",
    "# print(k13_u)"
   ]
  },
  {
   "cell_type": "code",
   "execution_count": null,
   "id": "07703cf4",
   "metadata": {},
   "outputs": [
    {
     "name": "stdout",
     "output_type": "stream",
     "text": [
      "['6', '3', 'T', '9', 'A', '4', 'Q', '7', '2', 'K', 'J', '5', '8']\n"
     ]
    }
   ],
   "source": [
    "# Shuffle play cards\n",
    "ranks = [\"2\", \"3\", \"4\", \"5\", \"6\", \"7\", \"8\", \"9\", \"T\", \"J\", \"Q\", \"K\", \"A\"]\n",
    "random.shuffle(ranks)\n",
    "\n",
    "print(ranks)"
   ]
  },
  {
   "cell_type": "code",
   "execution_count": 47,
   "id": "f781bd7a",
   "metadata": {},
   "outputs": [
    {
     "data": {
      "text/plain": [
       "7"
      ]
     },
     "execution_count": 47,
     "metadata": {},
     "output_type": "execute_result"
    }
   ],
   "source": [
    "# A randmon int \n",
    "random.randint(0,15)"
   ]
  }
 ],
 "metadata": {
  "kernelspec": {
   "display_name": "Python 3",
   "language": "python",
   "name": "python3"
  },
  "language_info": {
   "codemirror_mode": {
    "name": "ipython",
    "version": 3
   },
   "file_extension": ".py",
   "mimetype": "text/x-python",
   "name": "python",
   "nbconvert_exporter": "python",
   "pygments_lexer": "ipython3",
   "version": "3.10.18"
  }
 },
 "nbformat": 4,
 "nbformat_minor": 5
}
