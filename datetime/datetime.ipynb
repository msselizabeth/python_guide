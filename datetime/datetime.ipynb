{
 "cells": [
  {
   "cell_type": "markdown",
   "id": "651611f5",
   "metadata": {},
   "source": [
    "### Datetime\n",
    "\n",
    "Built-in module `datetime`:\n",
    "- current date and time\n",
    "- interval between two events\n",
    "- identify the day of the week, year, date in the past or the future date\n",
    "- comparison date and time between a few events usin compariosn operators\n",
    "- time zones\n",
    "- covertion a date and time into string and back to datetime"
   ]
  },
  {
   "cell_type": "code",
   "execution_count": 1,
   "id": "d4b8e9cb",
   "metadata": {},
   "outputs": [
    {
     "name": "stdout",
     "output_type": "stream",
     "text": [
      "2025-10-06 19:43:54.996636\n"
     ]
    }
   ],
   "source": [
    "import datetime\n",
    "now = datetime.datetime.now()\n",
    "print(now)"
   ]
  },
  {
   "cell_type": "code",
   "execution_count": 2,
   "id": "0c69ffcc",
   "metadata": {},
   "outputs": [
    {
     "name": "stdout",
     "output_type": "stream",
     "text": [
      "2025\n",
      "10\n",
      "6\n",
      "19\n",
      "43\n",
      "55\n",
      "1668\n",
      "None\n",
      "2025-10-06\n",
      "19:43:55.001668\n"
     ]
    }
   ],
   "source": [
    "from datetime import datetime\n",
    "\n",
    "current_datetime = datetime.now()\n",
    "\n",
    "print(current_datetime.year)\n",
    "print(current_datetime.month)\n",
    "print(current_datetime.day)\n",
    "print(current_datetime.hour)\n",
    "print(current_datetime.minute)\n",
    "print(current_datetime.second)\n",
    "print(current_datetime.microsecond)\n",
    "print(current_datetime.tzinfo)\n",
    "\n",
    "print(current_datetime.date())\n",
    "print(current_datetime.time())"
   ]
  },
  {
   "cell_type": "code",
   "execution_count": 3,
   "id": "ad8b4b00",
   "metadata": {},
   "outputs": [
    {
     "name": "stdout",
     "output_type": "stream",
     "text": [
      "2023-12-14 12:30:15\n"
     ]
    }
   ],
   "source": [
    "import datetime\n",
    "# Create objects date і time\n",
    "date_part = datetime.date(2023, 12, 14)\n",
    "time_part = datetime.time(12, 30, 15)\n",
    "\n",
    "# Combine to datetime\n",
    "combined_datetime = datetime.datetime.combine(date_part, time_part)\n",
    "\n",
    "print(combined_datetime)  # 2025-10-07 12:30:15\""
   ]
  },
  {
   "cell_type": "code",
   "execution_count": 4,
   "id": "7da69c8d",
   "metadata": {},
   "outputs": [
    {
     "name": "stdout",
     "output_type": "stream",
     "text": [
      "Today: 0\n"
     ]
    }
   ],
   "source": [
    "from datetime import datetime\n",
    "\n",
    "now = datetime.now()\n",
    "\n",
    "# Day of the week\n",
    "day_of_week = now.weekday()\n",
    "\n",
    "# 0 (Monday) -> 6 (Sunday)\n",
    "print(f\"Today: {day_of_week}\")  # Monday -> 0"
   ]
  },
  {
   "cell_type": "code",
   "execution_count": 5,
   "id": "808ee060",
   "metadata": {},
   "outputs": [
    {
     "name": "stdout",
     "output_type": "stream",
     "text": [
      "False\n",
      "True\n",
      "True\n",
      "False\n"
     ]
    }
   ],
   "source": [
    "from datetime import datetime\n",
    "\n",
    "# Створення двох об'єктів datetime\n",
    "datetime1 = datetime(2023, 3, 14, 12, 0)\n",
    "datetime2 = datetime(2023, 3, 15, 12, 0)\n",
    "\n",
    "# Порівняння дат\n",
    "print(datetime1 == datetime2)  # False, тому що дати не однакові\n",
    "print(datetime1 != datetime2)  # True, тому що дати різні\n",
    "print(datetime1 < datetime2)   # True, тому що datetime1 передує datetime2\n",
    "print(datetime1 > datetime2)   # False, тому що datetime1 не наступає за datetime2\n"
   ]
  },
  {
   "cell_type": "markdown",
   "id": "086515ee",
   "metadata": {},
   "source": [
    "#### `timedelta`"
   ]
  },
  {
   "cell_type": "code",
   "execution_count": 6,
   "id": "9e670ecb",
   "metadata": {},
   "outputs": [
    {
     "name": "stdout",
     "output_type": "stream",
     "text": [
      "64 days, 8:05:56.000010\n"
     ]
    }
   ],
   "source": [
    "from datetime import timedelta\n",
    "# the method adds all values in the fields \n",
    "delta = timedelta(\n",
    "    days=50,\n",
    "    seconds=27,\n",
    "    microseconds=10,\n",
    "    milliseconds=29000,\n",
    "    minutes=5,\n",
    "    hours=8,\n",
    "    weeks=2\n",
    ")\n",
    "print(delta)\n"
   ]
  },
  {
   "cell_type": "markdown",
   "id": "c6163d50",
   "metadata": {},
   "source": [
    "#### `timestamp`"
   ]
  },
  {
   "cell_type": "code",
   "execution_count": 7,
   "id": "3d6ac220",
   "metadata": {},
   "outputs": [
    {
     "name": "stdout",
     "output_type": "stream",
     "text": [
      "1759794235.033381\n",
      "2020-11-14 01:24:20\n"
     ]
    }
   ],
   "source": [
    "from datetime import datetime\n",
    "\n",
    "# Current time\n",
    "now = datetime.now()\n",
    "\n",
    "# datetime to timestamp\n",
    "timestamp = datetime.timestamp(now)\n",
    "print(timestamp)  # current timestamp\n",
    "\n",
    "# Ne timestamp\n",
    "timestamp = 1605335060\n",
    "\n",
    "# timestamp to datetime\n",
    "dt_object = datetime.fromtimestamp(timestamp)\n",
    "print(dt_object)  # datetime\n"
   ]
  },
  {
   "cell_type": "markdown",
   "id": "9ce214e6",
   "metadata": {},
   "source": [
    "#### `strftime`\n",
    "\n",
    "- `%Y` - рік з чотирма цифрами (наприклад, 2023).\n",
    "- `%y` - рік з двома цифрами (наприклад, 23).\n",
    "- `%m` - місяць як номер (наприклад, 03 для березня).\n",
    "- `%d` - день місяця як номер (наприклад, 14).\n",
    "- `%H` - година (24-годинний формат) (наприклад, 15).\n",
    "- `%I` - година (12-годинний формат) (наприклад, 03).\n",
    "- `%M` - хвилини (наприклад, 05).\n",
    "- `%S` - секунди (наприклад, 09).\n",
    "- `%A` - повна назва дня тижня (наприклад, Tuesday).\n",
    "- `%a` - скорочена назва дня тижня (наприклад, Tue).\n",
    "- `%B` - повна назва місяця (наприклад, March).\n",
    "- `%b` або `%h` - скорочена назва місяця (наприклад, Mar).\n",
    "- `%p` - AM або PM для 12-годинного формату.\n",
    "\n",
    "#### `strptime`\n",
    "\n",
    "`datetime_object = datetime.strptime(string, format)`"
   ]
  },
  {
   "cell_type": "code",
   "execution_count": 8,
   "id": "2d84ce21",
   "metadata": {},
   "outputs": [
    {
     "name": "stdout",
     "output_type": "stream",
     "text": [
      "2025-10-06 19:43:55\n",
      "Monday, 06 October 2025\n",
      "07:43 PM\n",
      "06.10.2025\n"
     ]
    }
   ],
   "source": [
    "from datetime import datetime\n",
    "\n",
    "now = datetime.now()\n",
    "\n",
    "# Date and time\n",
    "formatted_date = now.strftime(\"%Y-%m-%d %H:%M:%S\")\n",
    "print(formatted_date) \n",
    "\n",
    "# Only date\n",
    "formatted_date_only = now.strftime(\"%A, %d %B %Y\")\n",
    "print(formatted_date_only)\n",
    "\n",
    "# Only time\n",
    "formatted_time_only = now.strftime(\"%I:%M %p\")\n",
    "print(formatted_time_only)  \n",
    "\n",
    "# Only date\n",
    "formatted_date_only = now.strftime(\"%d.%m.%Y\")\n",
    "print(formatted_date_only)\n"
   ]
  },
  {
   "cell_type": "code",
   "execution_count": 9,
   "id": "6f747a7b",
   "metadata": {},
   "outputs": [
    {
     "name": "stdout",
     "output_type": "stream",
     "text": [
      "2025-03-09 00:00:00\n"
     ]
    }
   ],
   "source": [
    "from datetime import datetime\n",
    "\n",
    "date_string = \"2025.03.09\"\n",
    "\n",
    "datetime_object = datetime.strptime(date_string, \"%Y.%m.%d\")\n",
    "print(datetime_object)  #  datetime"
   ]
  },
  {
   "cell_type": "markdown",
   "id": "1b9c35b1",
   "metadata": {},
   "source": [
    "#### ISO and Time Zones"
   ]
  },
  {
   "cell_type": "code",
   "execution_count": 19,
   "id": "8931e757",
   "metadata": {},
   "outputs": [
    {
     "name": "stdout",
     "output_type": "stream",
     "text": [
      "2025-10-06T19:48:04.501026\n",
      "1\n",
      "datetime.IsoCalendarDate(year=2025, week=41, weekday=1)\n",
      "2025-10-06 19:48:04.501026\n"
     ]
    }
   ],
   "source": [
    "from datetime import datetime\n",
    "\n",
    "now = datetime.now()\n",
    "\n",
    "print(now.isoformat()) # 2025-10-06T19:45:41.554047\n",
    "print(now.isoweekday()) # 1 (Monday)\n",
    "print(now.isocalendar()) # datetime.IsoCalendarDate(year=2025, week=41, weekday=1)\n",
    "\n",
    "iso_now = now.isoformat()\n",
    "# Convert to datetime\n",
    "datetime_now = datetime.fromisoformat(iso_now)\n",
    "print(datetime_now)"
   ]
  },
  {
   "cell_type": "code",
   "execution_count": 35,
   "id": "4b343d1f",
   "metadata": {},
   "outputs": [
    {
     "name": "stdout",
     "output_type": "stream",
     "text": [
      "2025-10-06 20:05:56.116955\n",
      "2025-10-07 00:05:56.116987+00:00\n",
      "2025-10-06 17:05:56.116987-07:00\n",
      "2025-10-07 03:05:56.116955\n",
      "UTC-04:00\n"
     ]
    }
   ],
   "source": [
    "from datetime import datetime, timezone, timedelta\n",
    "\n",
    "local_now = datetime.now()\n",
    "utc_now = datetime.now(timezone.utc)\n",
    "\n",
    "pacific_time = utc_now.astimezone(timezone(timedelta(hours=-7)))\n",
    "ukraine_time = local_now + timedelta(hours=7)\n",
    "\n",
    "print(local_now)\n",
    "print(utc_now)\n",
    "\n",
    "print(pacific_time)\n",
    "print(ukraine_time)\n",
    "\n",
    "print(timezone(timedelta(hours=-4)))"
   ]
  },
  {
   "cell_type": "code",
   "execution_count": 36,
   "id": "8232c2fb",
   "metadata": {},
   "outputs": [
    {
     "name": "stdout",
     "output_type": "stream",
     "text": [
      "Час виконання: 0.02419933397322893 секунд\n"
     ]
    }
   ],
   "source": [
    "import time\n",
    "\n",
    "# Записуємо час на початку виконання\n",
    "start_time = time.perf_counter()\n",
    "\n",
    "# Виконуємо якусь операцію\n",
    "for _ in range(1_000_000):\n",
    "    pass  # Просто проходить цикл мільйон разів\n",
    "\n",
    "# Записуємо час після виконання операції\n",
    "end_time = time.perf_counter()\n",
    "\n",
    "# Розраховуємо та виводимо час виконання\n",
    "execution_time = end_time - start_time\n",
    "print(f\"Час виконання: {execution_time} секунд\")\n"
   ]
  },
  {
   "cell_type": "markdown",
   "id": "ede2401b",
   "metadata": {},
   "source": [
    "Libraies: python-dateutil/pytz"
   ]
  }
 ],
 "metadata": {
  "kernelspec": {
   "display_name": "Python 3",
   "language": "python",
   "name": "python3"
  },
  "language_info": {
   "codemirror_mode": {
    "name": "ipython",
    "version": 3
   },
   "file_extension": ".py",
   "mimetype": "text/x-python",
   "name": "python",
   "nbconvert_exporter": "python",
   "pygments_lexer": "ipython3",
   "version": "3.13.1"
  }
 },
 "nbformat": 4,
 "nbformat_minor": 5
}
