{
 "cells": [
  {
   "cell_type": "markdown",
   "id": "f186ac2d",
   "metadata": {},
   "source": [
    "### VENV\n",
    "\n",
    "- `python -m venv .venv/` - to create a virtual envinroment\n",
    "- `source usr/bin/.venv/activate` - to activate VE"
   ]
  }
 ],
 "metadata": {
  "language_info": {
   "name": "python"
  }
 },
 "nbformat": 4,
 "nbformat_minor": 5
}
