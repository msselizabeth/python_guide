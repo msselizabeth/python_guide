{
 "cells": [
  {
   "cell_type": "markdown",
   "id": "1e46e9b1",
   "metadata": {},
   "source": [
    "### 🗂️ Files\n",
    "\n",
    "- `open(file, mode, buffering, encoding, errors, newline, closefd, opener)`—Opens a file by its path.\n",
    "\n",
    " - **`file`** — path to the file as a string.  \n",
    "  Can be either an absolute path or a path relative to the current working directory.\n",
    "\n",
    " - **`mode`** *(optional)* — defines how the file will be opened.  \n",
    "  Main modes:\n",
    "   - `'r'` — **read** mode *(default)*. The file must exist.  \n",
    "   - `'w'` — **write** mode. Creates a new file or overwrites an existing one.  \n",
    "   - `'a'` — **append** mode. Adds content to the end of the file without overwriting.  \n",
    "   - `'b'` — **binary** mode (can be combined, e.g. `'rb'`, `'wb'`). \n",
    "   - `'x'` - **create and write** mode  \n",
    "   - `'+'` — **update** mode (read and write).  \n",
    "\n",
    " - **`buffering`** *(optional)* — defines buffering behavior:  \n",
    "   - `0` — buffering disabled  \n",
    "   - `1` — line buffering enabled  \n",
    "   - `>1` — specifies buffer size in bytes  \n",
    "\n",
    "- **`encoding`** *(optional)* — file encoding name used for reading/writing.\n",
    "\n",
    "- **`errors`** *(optional)* — defines how encoding/decoding errors are handled.\n",
    "\n",
    "- **`newline`** *(optional)* — controls how newline characters are processed.\n",
    "\n",
    "- **`closefd`** *(optional)* — should be `True` *(default)*, if `False` -> the file descriptor won’t be closed.\n",
    "\n",
    "- **`opener`** *(optional)* — custom function for opening the file.\n",
    "\n",
    "---\n",
    "\n",
    "- `file.close()`\n",
    "Closes the file after use.  \n",
    "> ⚠️ **Always required** to free system resources."
   ]
  },
  {
   "cell_type": "code",
   "execution_count": 4,
   "id": "b8633de2",
   "metadata": {},
   "outputs": [],
   "source": [
    "fh = open(\"../text.txt\")\n",
    "fh.close()"
   ]
  },
  {
   "cell_type": "code",
   "execution_count": 20,
   "id": "e16ce862",
   "metadata": {},
   "outputs": [
    {
     "name": "stdout",
     "output_type": "stream",
     "text": [
      "15\n"
     ]
    }
   ],
   "source": [
    "# Open the file in \"write\" mode\n",
    "fh = open('../text.txt', 'w')\n",
    "symbols_written = fh.write('I\\'m a new text!')\n",
    "print(symbols_written)\n",
    "fh.close()"
   ]
  },
  {
   "cell_type": "markdown",
   "id": "f8ba1d74",
   "metadata": {},
   "source": [
    "- `read(symbols)`— reads the document, and `symbols` parameter provides how many symbols we want to read from the file. Read all file by default."
   ]
  },
  {
   "cell_type": "code",
   "execution_count": 28,
   "id": "4842f317",
   "metadata": {},
   "outputs": [
    {
     "name": "stdout",
     "output_type": "stream",
     "text": [
      "I'm a new text!\n"
     ]
    }
   ],
   "source": [
    "# Open the file in \"read\" mode\n",
    "fh = open('../text.txt', 'r')\n",
    "\n",
    "print(fh.read())\n",
    "fh.close()"
   ]
  },
  {
   "cell_type": "markdown",
   "id": "23d4103c",
   "metadata": {},
   "source": [
    "- `seek(int)`—a number of symbol from what you need to read the file\n",
    "- `tell()`—to get the cursor position now."
   ]
  },
  {
   "cell_type": "code",
   "execution_count": null,
   "id": "54955bcc",
   "metadata": {},
   "outputs": [
    {
     "name": "stdout",
     "output_type": "stream",
     "text": [
      "6\n",
      "el\n",
      "3\n"
     ]
    }
   ],
   "source": [
    "# Write and read the file\n",
    "fh = open('test.txt', 'w+')\n",
    "fh.write('hello!')\n",
    "position = fh.tell()\n",
    "print(position) #6\n",
    "\n",
    "fh.seek(1) # change the cursor on the position 1(it's letter 'e' in 'hello!')\n",
    "\n",
    "first_two_symbols = fh.read(2)\n",
    "print(first_two_symbols)  # 'el'\n",
    "\n",
    "position = fh.tell()\n",
    "print(position) #3\n",
    "\n",
    "fh.close()"
   ]
  },
  {
   "cell_type": "markdown",
   "id": "96dcbd9b",
   "metadata": {},
   "source": [
    "- `readline()`—read the file by line, return the empty string if no lines left\n",
    "- `readlines()`—read the whole file, and return a list of rows(lines), where each element is a one line in the file."
   ]
  },
  {
   "cell_type": "code",
   "execution_count": 37,
   "id": "d2c0820c",
   "metadata": {},
   "outputs": [
    {
     "name": "stdout",
     "output_type": "stream",
     "text": [
      "first line\n",
      "\n",
      "second line\n",
      "\n",
      "third line\n",
      "['first line', 'second line', 'third line']\n"
     ]
    }
   ],
   "source": [
    "# Read the file by line\n",
    "fh = open('test.txt', 'w')\n",
    "fh.write('first line\\nsecond line\\nthird line')\n",
    "fh.close()\n",
    "\n",
    "fh = open('test.txt', 'r')\n",
    "while True:\n",
    "    line = fh.readline()\n",
    "    if not line:\n",
    "        break\n",
    "    print(line)\n",
    "\n",
    "# Readlines\n",
    "fh = open('test.txt', 'r')\n",
    "lines = [el.strip() for el in fh.readlines()] # strip() delete \"\\n\"\n",
    "print(lines) #['first line\\n', 'second line\\n', 'third line']\n",
    "\n",
    "fh.close()"
   ]
  },
  {
   "cell_type": "markdown",
   "id": "0c54ae82",
   "metadata": {},
   "source": [
    "#### Context manager with\n",
    "\n",
    "`with ... as ...:`—gurantee that the file will close after work(no matter with errors/exceptions or without them)"
   ]
  },
  {
   "cell_type": "code",
   "execution_count": 41,
   "id": "eb77d123",
   "metadata": {},
   "outputs": [],
   "source": [
    "with open('text.txt', 'w') as fh:\n",
    "    # some code \n",
    "    fh.write('Some data')\n",
    "# The file is being closed here.\n"
   ]
  },
  {
   "cell_type": "code",
   "execution_count": 42,
   "id": "9ba05570",
   "metadata": {},
   "outputs": [
    {
     "name": "stdout",
     "output_type": "stream",
     "text": [
      "['first line', 'second line', 'third line']\n"
     ]
    }
   ],
   "source": [
    "with open(\"test.txt\", \"w\") as fh:\n",
    "    fh.write(\"first line\\nsecond line\\nthird line\")\n",
    "\n",
    "with open(\"test.txt\", \"r\") as fh:\n",
    "    lines = [el.strip() for el in fh.readlines()]\n",
    "\n",
    "print(lines)"
   ]
  },
  {
   "cell_type": "markdown",
   "id": "2b354548",
   "metadata": {},
   "source": [
    "- `str.encode(encoding=\"utf-8\", errors=\"strict\")`\n"
   ]
  },
  {
   "cell_type": "code",
   "execution_count": 47,
   "id": "f4f1f803",
   "metadata": {},
   "outputs": [
    {
     "name": "stdout",
     "output_type": "stream",
     "text": [
      "b'some text'\n",
      "UTF-8: b'\\xd0\\x9f\\xd1\\x80\\xd0\\xb8\\xd0\\xb2\\xd1\\x96\\xd1\\x82!'\n",
      "UTF-16: b'\\xff\\xfe\\x1f\\x04@\\x048\\x042\\x04V\\x04B\\x04!\\x00'\n",
      "CP-1251: b'\\xcf\\xf0\\xe8\\xe2\\xb3\\xf2!'\n",
      "True\n"
     ]
    }
   ],
   "source": [
    "byte_str = 'some text'.encode()\n",
    "print(byte_str)\n",
    "\n",
    "s = \"Привіт!\"\n",
    "\n",
    "utf8 = s.encode()\n",
    "print(f\"UTF-8: {utf8}\")\n",
    "\n",
    "utf16 = s.encode(\"utf-16\")\n",
    "print(f\"UTF-16: {utf16}\")\n",
    "\n",
    "cp1251 = s.encode(\"cp1251\")\n",
    "print(f\"CP-1251: {cp1251}\")\n",
    "\n",
    "s_from_utf16 = utf16.decode(\"utf-16\")\n",
    "print(s_from_utf16 == s)\n"
   ]
  },
  {
   "cell_type": "code",
   "execution_count": 57,
   "id": "c38afd31",
   "metadata": {},
   "outputs": [
    {
     "name": "stdout",
     "output_type": "stream",
     "text": [
      "Some data\n"
     ]
    }
   ],
   "source": [
    "# Відкриття текстового файлу з явним вказівкам UTF-8 кодування\n",
    "with open('text.txt', 'r', encoding='utf-8') as file:\n",
    "    content = file.read()\n",
    "    print(content)\n"
   ]
  },
  {
   "cell_type": "code",
   "execution_count": 46,
   "id": "56a3e3dd",
   "metadata": {},
   "outputs": [
    {
     "name": "stdout",
     "output_type": "stream",
     "text": [
      "b'\\x00\\x80\\xff'\n",
      "0x7f\n",
      "0xff\n",
      "0x9c\n"
     ]
    }
   ],
   "source": [
    "# Перетворення списку чисел у байт-рядок\n",
    "numbers = [0, 128, 255]\n",
    "byte_numbers = bytes(numbers)\n",
    "print(byte_numbers)  # Виведе байтове представлення чисел\n",
    "\n",
    "for num in [127, 255, 156]:\n",
    "  print(hex(num))\n"
   ]
  },
  {
   "cell_type": "code",
   "execution_count": 53,
   "id": "70a61037",
   "metadata": {},
   "outputs": [
    {
     "name": "stdout",
     "output_type": "stream",
     "text": [
      "97\n",
      "d\n"
     ]
    }
   ],
   "source": [
    "uft_8 = ord('a')  # 97\n",
    "print(uft_8)\n",
    "\n",
    "regular = chr(100)  # 'd'\n",
    "print(regular)"
   ]
  },
  {
   "cell_type": "markdown",
   "id": "510d2521",
   "metadata": {},
   "source": [
    "### Pathlib"
   ]
  },
  {
   "cell_type": "code",
   "execution_count": null,
   "id": "80801855",
   "metadata": {},
   "outputs": [
    {
     "name": "stdout",
     "output_type": "stream",
     "text": [
      "files.py\n",
      ".py\n",
      "/Users/elizabethsheremet/python/python_guide/files\n"
     ]
    }
   ],
   "source": [
    "import pathlib\n",
    "\n",
    "p = pathlib.PurePath(\"/Users/elizabethsheremet/python/python_guide/files/files.py\")\n",
    "\n",
    "print(p.name) #files.py\n",
    "print(p.suffix) #.py\n",
    "print(p.parent) #/Users/elizabethsheremet/python/python_guide/files"
   ]
  },
  {
   "cell_type": "code",
   "execution_count": null,
   "id": "c6187569",
   "metadata": {},
   "outputs": [
    {
     "name": "stdout",
     "output_type": "stream",
     "text": [
      "New info\n",
      "New info\n",
      "True\n"
     ]
    }
   ],
   "source": [
    "from pathlib import Path\n",
    "\n",
    "p = Path(\"text.txt\")\n",
    "p.write_text(\"New info\") # modified the previous file\n",
    "\n",
    "print(p.read_text()) \n",
    "print(p.exists())"
   ]
  },
  {
   "cell_type": "code",
   "execution_count": 86,
   "id": "01d1e413",
   "metadata": {},
   "outputs": [
    {
     "name": "stdout",
     "output_type": "stream",
     "text": [
      "Relative: files.ipynb\n",
      "Absolute: /Users/elizabethsheremet/python/python_guide/files/files.ipynb \n",
      "new_file.txt\n",
      "new_file.md\n"
     ]
    },
    {
     "data": {
      "text/plain": [
       "PosixPath('new_file.txt')"
      ]
     },
     "execution_count": 86,
     "metadata": {},
     "output_type": "execute_result"
    }
   ],
   "source": [
    "from pathlib import Path\n",
    "\n",
    "relative_path = Path(\"files.ipynb\")\n",
    "absolute_path = relative_path.absolute()\n",
    "\n",
    "print(f\"Relative: {relative_path}\")\n",
    "print(f\"Absolute: {absolute_path} \")\n",
    "\n",
    "original = Path(\"test_2.txt\")\n",
    "new = original.with_name(\"new_file.txt\")\n",
    "print(new)\n",
    "\n",
    "new_suffix = new.with_suffix(\".md\")\n",
    "print(new_suffix)\n",
    "\n",
    "original.rename(new)"
   ]
  },
  {
   "cell_type": "code",
   "execution_count": 1,
   "id": "e7ab30d8",
   "metadata": {},
   "outputs": [
    {
     "name": "stdout",
     "output_type": "stream",
     "text": [
      "['In', 'Out', '_', '__', '__DW_SCOPE__', '___', '__builtin__', '__builtins__', '__doc__', '__loader__', '__name__', '__package__', '__spec__', '__vsc_ipynb_file__', '_dh', '_i', '_i1', '_ih', '_ii', '_iii', '_oh', 'exit', 'get_ipython', 'open', 'quit']\n"
     ]
    }
   ],
   "source": [
    "print(dir())"
   ]
  }
 ],
 "metadata": {
  "kernelspec": {
   "display_name": "Python 3",
   "language": "python",
   "name": "python3"
  },
  "language_info": {
   "codemirror_mode": {
    "name": "ipython",
    "version": 3
   },
   "file_extension": ".py",
   "mimetype": "text/x-python",
   "name": "python",
   "nbconvert_exporter": "python",
   "pygments_lexer": "ipython3",
   "version": "3.13.1"
  }
 },
 "nbformat": 4,
 "nbformat_minor": 5
}
