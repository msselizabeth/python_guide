{
 "cells": [
  {
   "cell_type": "markdown",
   "id": "fc436eb8",
   "metadata": {},
   "source": [
    "### Collections\n",
    "\n",
    "List of collections in Python:\n",
    "\n",
    "|  Type | Mutable?     | Syntax Example                 | Description |\n",
    "|-----------------|--------------|--------------------------------|-------------|\n",
    "| **🔗[List](#list)**        | ✅ Mutable   | `[1, 2, 3]`                    | Ordered collection of elements. Items can be added, removed, or changed. |\n",
    "| **Tuple**       | ❌ Immutable | `(1, 2, 3)`                    | Similar to a list, but immutable. Useful for fixed data. |\n",
    "| **Dictionary**  | ✅ Mutable   | `{\"a\": 1, \"b\": 2}`             | Key–value pairs with unique keys. Fast access by key. |\n",
    "| **Set**         | ✅ Mutable   | `{1, 2, 3}`                    | Unordered collection of unique elements. Supports union, intersection, difference. |\n",
    "| **Frozen Set**  | ❌ Immutable | `frozenset([1, 2, 3])`         | Immutable version of a set. Cannot be changed after creation. |\n",
    "\n"
   ]
  },
  {
   "cell_type": "markdown",
   "id": "de4f1068",
   "metadata": {},
   "source": [
    "### List\n",
    "\n",
    "Options to create a list:\n",
    "- **list()**–using function\n",
    "- **[]**–syntax \n",
    "\n",
    "List may include any types of values in the same time."
   ]
  },
  {
   "cell_type": "code",
   "execution_count": 1,
   "id": "144acce8",
   "metadata": {},
   "outputs": [
    {
     "name": "stdout",
     "output_type": "stream",
     "text": [
      "List_1: [1, 2, 3]\n",
      "List_2: ['q', 'r', 'w', 'r', 'v', 'r', '4', '2', '4', 'f', 'w', 'e']\n",
      "List_3: [1, 2, 3, 4, 5, 6, 7, 8, 9, 10, 11, 12, 13, 14]\n"
     ]
    }
   ],
   "source": [
    "list_1 = [1,2,3]\n",
    "list_2=list(\"qrwrvr424fwe\") #at most 1 argument\n",
    "list_3= list(range(1,15))\n",
    "\n",
    "print(f\"List_1: {list_1}\")\n",
    "print(f\"List_2: {list_2}\")\n",
    "print(f\"List_3: {list_3}\")"
   ]
  },
  {
   "cell_type": "code",
   "execution_count": 2,
   "id": "45c6cc48",
   "metadata": {},
   "outputs": [
    {
     "name": "stdout",
     "output_type": "stream",
     "text": [
      "[1, 2, 3, 4, 6, 3, 3, 7, 5, 8]\n",
      "1\n",
      "8\n",
      "[2, 3, 4, 6, 3, 3, 7, 5]\n",
      "[2, 4, 6, 3, 3, 7, 5]\n",
      "There are 2 elements of 3 in the list\n",
      "There are 0 elements of 1 in the list\n"
     ]
    }
   ],
   "source": [
    "#List methods\n",
    "list = [1,2,3,4,6,3,3,7,5]\n",
    "\n",
    "#Get elements\n",
    "list[1] #2 \n",
    "list[-1] #5\n",
    "list[0] #1\n",
    "\n",
    "# Add an element to the list\n",
    "list.append(8) # [1,2,3,4,6,3,3,7,5,8]\n",
    "print(list)\n",
    "\n",
    "# Remove the first and the last element by index\n",
    "print(list.pop(0)) # 1\n",
    "print(list.pop()) # 8\n",
    "print(list) # [2,3,4,6,3,3,7,5] \n",
    "\n",
    "#Remove an element by value\n",
    "list.remove(3) #removes the first element that matches the value\n",
    "print(list) # [2,4,6,3,3,7,5]\n",
    "\n",
    "# Count how many elements with the same value\n",
    "count_3 = list.count(3)\n",
    "count_1 = list.count(1)\n",
    "print(f\"There are {count_3} elements of 3 in the list\") # 2\n",
    "print(f\"There are {count_1} elements of 1 in the list\") # 0"
   ]
  },
  {
   "cell_type": "code",
   "execution_count": 3,
   "id": "72a69c7e",
   "metadata": {},
   "outputs": [
    {
     "name": "stdout",
     "output_type": "stream",
     "text": [
      "['a', 'b', 1, 2, 3]\n",
      "[1, 'two', 2, 3]\n",
      "[]\n",
      "2\n",
      "['Welcome To My World', 'Personal Jesus', 'Heaven']\n",
      "['Heaven', 'Personal Jesus', 'Welcome To My World']\n"
     ]
    }
   ],
   "source": [
    "#Extend lists\n",
    "list_1 = [1,2,3]\n",
    "list_2 = [\"a\", \"b\"]\n",
    "list_2.extend(list_1)\n",
    "print(list_2) # [\"a\", \"b\", 1, 2, 3]\n",
    "\n",
    "# Insert in the list\n",
    "list_1.insert(1, \"two\") # [1, \"two\", 2, 3]\n",
    "print(list_1)\n",
    "\n",
    "# Clear a list\n",
    "list_1.clear()\n",
    "print(list_1)\n",
    "\n",
    "#Find an index of the element\n",
    "idx_el = list_2.index(1) # el(1) -> index-2\n",
    "print(idx_el)\n",
    "\n",
    "#Create a copy\n",
    "songs = [\"Welcome To My World\", \"Personal Jesus\", \"Heaven\"]\n",
    "songs_copy = songs.copy()\n",
    "print(songs_copy)\n",
    "\n",
    "# Reverse the list\n",
    "songs.reverse() #cannot be assigned to a variable ?\n",
    "print(songs)"
   ]
  },
  {
   "cell_type": "markdown",
   "id": "248049b6",
   "metadata": {},
   "source": [
    "**Method <span style=\"color:orange\">sort(arr, key, reverse)</span>**—only for lists:\n",
    "\n",
    "The method <span style=\"color:darkred\">**changes**</span> the initial aaray and is used to sort the same types of elements, so it's not possible to sort strings and nums in the same array—it's caussing an error."
   ]
  },
  {
   "cell_type": "code",
   "execution_count": 4,
   "id": "e8cb51ef",
   "metadata": {},
   "outputs": [
    {
     "name": "stdout",
     "output_type": "stream",
     "text": [
      "[1, 1, 2, 3, 4, 5, 9]\n",
      "[9, 5, 4, 3, 2, 1, 1]\n",
      "['apple', 'banana', 'cherry']\n"
     ]
    }
   ],
   "source": [
    "# Sorting the list by DESC\n",
    "nums = [3, 1, 4, 1, 5, 9, 2]\n",
    "nums.sort()\n",
    "print(nums)  # [1, 1, 2, 3, 4, 5, 9]\n",
    "\n",
    "# by ASC\n",
    "nums.sort(reverse=True)\n",
    "print(nums)  # [9, 5, 4, 3, 2, 1, 1]\n",
    "\n",
    "# By lenght\n",
    "words = [\"banana\", \"apple\", \"cherry\"]\n",
    "words.sort(key=len)\n",
    "print(words)  # ['apple', 'banana', 'cherry']\n"
   ]
  },
  {
   "cell_type": "markdown",
   "id": "8f035636",
   "metadata": {},
   "source": [
    "**Method <span style=\"color:orange\">sorted(arr, key, reverse)</span>**—for collections:\n",
    "\n",
    "The method <span style=\"color:darkred\">**does NOT change**</span> the initial aaray and returns a new sorted collection."
   ]
  },
  {
   "cell_type": "code",
   "execution_count": null,
   "id": "72ce93fc",
   "metadata": {},
   "outputs": [
    {
     "name": "stdout",
     "output_type": "stream",
     "text": [
      "[1, 1, 2, 3, 4, 5, 9]\n",
      "[9, 5, 4, 3, 2, 1, 1]\n",
      "['kiwi', 'apple', 'banana', 'cherry']\n"
     ]
    }
   ],
   "source": [
    "#DESC\n",
    "nums = [3, 1, 4, 1, 5, 9, 2]\n",
    "sorted_nums = sorted(nums)\n",
    "print(sorted_nums)  # [1, 1, 2, 3, 4, 5, 9]\n",
    "\n",
    "#ASC\n",
    "sorted_nums_desc = sorted(nums, reverse=True)\n",
    "print(sorted_nums_desc)  # [9, 5, 4, 3, 2, 1, 1]\n",
    "\n",
    "#Length\n",
    "words = [ \"apple\",\"banana\",\"kiwi\", \"cherry\"]\n",
    "sorted_words = sorted(words, key=len)\n",
    "print(sorted_words)  # ['kiwi', 'apple', 'banana', 'cherry']"
   ]
  }
 ],
 "metadata": {
  "kernelspec": {
   "display_name": "Python 3",
   "language": "python",
   "name": "python3"
  },
  "language_info": {
   "codemirror_mode": {
    "name": "ipython",
    "version": 3
   },
   "file_extension": ".py",
   "mimetype": "text/x-python",
   "name": "python",
   "nbconvert_exporter": "python",
   "pygments_lexer": "ipython3",
   "version": "3.13.1"
  }
 },
 "nbformat": 4,
 "nbformat_minor": 5
}
