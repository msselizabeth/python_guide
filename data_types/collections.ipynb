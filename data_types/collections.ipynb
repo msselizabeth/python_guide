{
 "cells": [
  {
   "cell_type": "markdown",
   "id": "fc436eb8",
   "metadata": {},
   "source": [
    "### Collections\n",
    "\n",
    "List of collections in Python:\n",
    "\n",
    "|  Type | Mutable?     | Syntax Example                 | Description |\n",
    "|-----------------|--------------|--------------------------------|-------------|\n",
    "| **🔗[List](#list)**        | ✅ Mutable   | `[1, 2, 3]`                    | Ordered collection of elements. Items can be added, removed, or changed. |\n",
    "| **🔗[Tuple](#tuples)**       | ❌ Immutable | `(1, 2, 3)`                    | Similar to a list, but immutable. Useful for fixed data. |\n",
    "| **🔗[Dictionary](#dictionaries)**  | ✅ Mutable   | `{\"a\": 1, \"b\": 2}`             | Key–value pairs with unique keys. Fast access by key. |\n",
    "| **🔗[Set](#sets)**         | ✅ Mutable   | `{1, 2, 3}`                    | Unordered collection of unique elements. Supports union, intersection, difference. |\n",
    "| **🔗[Frozen Set](#frozen-sets)**  | ❌ Immutable | `frozenset([1, 2, 3])`         | Immutable version of a set. Cannot be changed after creation. |\n",
    "\n"
   ]
  },
  {
   "cell_type": "markdown",
   "id": "de4f1068",
   "metadata": {},
   "source": [
    "### List\n",
    "\n",
    "Options to create a list:\n",
    "- **list()**–using function\n",
    "- **[]**–syntax \n",
    "\n",
    "List may include any types of values in the same time."
   ]
  },
  {
   "cell_type": "code",
   "execution_count": null,
   "id": "144acce8",
   "metadata": {},
   "outputs": [],
   "source": [
    "list_1 = [1,2,3]\n",
    "list_2=list(\"qrwrvr424fwe\") #at most 1 argument\n",
    "list_3= list(range(1,15))\n",
    "\n",
    "print(f\"List_1: {list_1}\")\n",
    "print(f\"List_2: {list_2}\")\n",
    "print(f\"List_3: {list_3}\")"
   ]
  },
  {
   "cell_type": "code",
   "execution_count": null,
   "id": "45c6cc48",
   "metadata": {},
   "outputs": [],
   "source": [
    "#List methods\n",
    "numbers = [1,2,3,4,6,3,3,7,5]\n",
    "\n",
    "#Get elements\n",
    "numbers[1] #2 \n",
    "numbers[-1] #5\n",
    "numbers[0] #1\n",
    "\n",
    "# Add an element to the list\n",
    "numbers.append(8) # [1,2,3,4,6,3,3,7,5,8]\n",
    "print(numbers)\n",
    "\n",
    "# Remove the first and the last element by index\n",
    "print(numbers.pop(0)) # 1\n",
    "print(numbers.pop()) # 8\n",
    "print(numbers) # [2,3,4,6,3,3,7,5] \n",
    "\n",
    "#Remove an element by value\n",
    "numbers.remove(3) #removes the first element that matches the value\n",
    "print(numbers) # [2,4,6,3,3,7,5]\n",
    "\n",
    "# Count how many elements with the same value\n",
    "count_3 = numbers.count(3)\n",
    "count_1 = numbers.count(1)\n",
    "print(f\"There are {count_3} elements of 3 in the list\") # 2\n",
    "print(f\"There are {count_1} elements of 1 in the list\") # 0"
   ]
  },
  {
   "cell_type": "code",
   "execution_count": null,
   "id": "72a69c7e",
   "metadata": {},
   "outputs": [],
   "source": [
    "#Extend lists\n",
    "list_1 = [1,2,3]\n",
    "list_2 = [\"a\", \"b\"]\n",
    "list_2.extend(list_1)\n",
    "print(list_2) # [\"a\", \"b\", 1, 2, 3]\n",
    "\n",
    "# Insert in the list\n",
    "list_1.insert(1, \"two\") # [1, \"two\", 2, 3]\n",
    "print(list_1)\n",
    "\n",
    "# Clear a list\n",
    "list_1.clear()\n",
    "print(list_1)\n",
    "\n",
    "#Find an index of the element\n",
    "idx_el = list_2.index(1) # el(1) -> index-2\n",
    "print(idx_el)\n",
    "\n",
    "#Create a copy\n",
    "songs = [\"Welcome To My World\", \"Personal Jesus\", \"Heaven\"]\n",
    "songs_copy = songs.copy()\n",
    "print(songs_copy)\n",
    "\n",
    "# Reverse the list\n",
    "songs.reverse() #cannot be assigned to a variable ?\n",
    "print(songs)"
   ]
  },
  {
   "cell_type": "markdown",
   "id": "248049b6",
   "metadata": {},
   "source": [
    "**Method <span style=\"color:orange\">sort(arr, key, reverse)</span>**—only for lists:\n",
    "\n",
    "The method <span style=\"color:darkred\">**changes**</span> the initial aaray and is used to sort the same types of elements, so it's not possible to sort strings and nums in the same array—it's caussing an error."
   ]
  },
  {
   "cell_type": "code",
   "execution_count": null,
   "id": "e8cb51ef",
   "metadata": {},
   "outputs": [],
   "source": [
    "# Sorting the list by DESC\n",
    "nums = [3, 1, 4, 1, 5, 9, 2]\n",
    "nums.sort()\n",
    "print(nums)  # [1, 1, 2, 3, 4, 5, 9]\n",
    "\n",
    "# by ASC\n",
    "nums.sort(reverse=True)\n",
    "print(nums)  # [9, 5, 4, 3, 2, 1, 1]\n",
    "\n",
    "# By lenght\n",
    "words = [\"banana\", \"apple\", \"cherry\"]\n",
    "words.sort(key=len)\n",
    "print(words)  # ['apple', 'banana', 'cherry']\n"
   ]
  },
  {
   "cell_type": "markdown",
   "id": "8f035636",
   "metadata": {},
   "source": [
    "**Method <span style=\"color:orange\">sorted(arr, key, reverse)</span>**—for collections:\n",
    "\n",
    "The method <span style=\"color:darkred\">**does NOT change**</span> the initial aaray and returns a new sorted collection."
   ]
  },
  {
   "cell_type": "code",
   "execution_count": null,
   "id": "72ce93fc",
   "metadata": {},
   "outputs": [],
   "source": [
    "#DESC\n",
    "nums = [3, 1, 4, 1, 5, 9, 2]\n",
    "sorted_nums = sorted(nums)\n",
    "print(sorted_nums)  # [1, 1, 2, 3, 4, 5, 9]\n",
    "\n",
    "#ASC\n",
    "sorted_nums_desc = sorted(nums, reverse=True)\n",
    "print(sorted_nums_desc)  # [9, 5, 4, 3, 2, 1, 1]\n",
    "\n",
    "#Length\n",
    "words = [ \"apple\",\"banana\",\"kiwi\", \"cherry\"]\n",
    "sorted_words = sorted(words, key=len)\n",
    "print(sorted_words)  # ['kiwi', 'apple', 'banana', 'cherry']"
   ]
  },
  {
   "cell_type": "markdown",
   "id": "86242f35",
   "metadata": {},
   "source": [
    "### Dictionaries\n",
    "\n",
    "Dictionaries are key:value pairs.\n",
    "**Syntax—{key: value}**"
   ]
  },
  {
   "cell_type": "code",
   "execution_count": null,
   "id": "e882ce1a",
   "metadata": {},
   "outputs": [],
   "source": [
    "#Getting a value from a dict\n",
    "my_dict = {\"name\": \"Alice\", \"age\": 25, \"city\": \"New York\"}\n",
    "print(my_dict[\"name\"])  # 'Alice'\n",
    "\n",
    "# Change the value\n",
    "my_dict[\"age\"] = 26  # Change age to 26\n",
    "my_dict[\"email\"] = \"alice@example.com\"  # add a new key:value pair\n",
    "print(my_dict)\n",
    "\n",
    "#Delete an element \n",
    "del my_dict[\"email\"]\n",
    "print(my_dict)\n",
    "\n",
    "#Check if the dict has a key\n",
    "print('name' in my_dict) # True\n",
    "print(\"email\" in my_dict) # False\n"
   ]
  },
  {
   "cell_type": "markdown",
   "id": "219d1dad",
   "metadata": {},
   "source": [
    "**Dict methods:**\n",
    "\n",
    "- Method <span style=\"color:orange\">**update({key:value})**</span>—update/add a/the key with a value.\n",
    "- Method <span style=\"color:orange\">**clear()**</span>—deletes all keys.\n",
    "- Method <span style=\"color:orange\">**copy()**</span>—creates a copy of the dict.\n",
    "- Method <span style=\"color:orange\">**get(key)**</span>—a save method to get a value, if not a key, returns **None**.\n",
    "**Note:** using [] to get a value if there is no such key, causes a KeyError."
   ]
  },
  {
   "cell_type": "code",
   "execution_count": null,
   "id": "1452562b",
   "metadata": {},
   "outputs": [],
   "source": [
    "user = {\"name\": \"Sam\", \"age\": 33}\n",
    "print(f\"Initial User: {user}\") #{\"name\": \"Sam\", \"age\": 33}\n",
    "\n",
    "user.update({\"age\": 35, \"email\": \"sam@sam.com\"})\n",
    "print(f\"Updated User: {user}\") # {\"name\": \"Sam\", \"age\": 35, \"email\": \"sam@sam.com\"}\n",
    "\n",
    "user_copy = user.copy()\n",
    "print(f\"Copy of User: {user_copy}\") # {\"name\": \"Sam\", \"age\": 35, \"email\": \"sam@sam.com\"}\n",
    "\n",
    "user_copy.clear()\n",
    "print(f\"Cleaned dict: {user_copy}\") # {}\n",
    "\n",
    "user_name = user.get(\"name\")\n",
    "print(f\"User Name: {user_name}\") # Sam"
   ]
  },
  {
   "cell_type": "markdown",
   "id": "b5e1f66b",
   "metadata": {},
   "source": [
    "### Sets\n",
    "\n",
    "Sets are unique collections. To create a set:\n",
    "- using **set()**;\n",
    "- use a dict syntax with value delemited by coma **{1,2,3}**\n",
    "\n",
    "If we add the same value to the set where there is one—nothing changes.\n",
    "\n",
    "**Use case:** Using to delete duplicates from a list.\n",
    "\n",
    "<span style=\"color:yellow\">**Warning:**</span>—don't use list/set as variable name"
   ]
  },
  {
   "cell_type": "code",
   "execution_count": null,
   "id": "775596fa",
   "metadata": {},
   "outputs": [],
   "source": [
    "new_set = {1,2,3,4,2,3,6,4}\n",
    "print(new_set)  # {1, 2, 3, 4, 6}\n",
    "# del new_set \n",
    "\n",
    "# use case\n",
    "nums = [1,1,2,2,3,3,4,4,5,5]\n",
    "set_list = set(nums)\n",
    "cleaned_list = list(set_list)\n",
    "print(cleaned_list)  # [1, 2, 3, 4, 5]"
   ]
  },
  {
   "cell_type": "markdown",
   "id": "8edefc08",
   "metadata": {},
   "source": [
    "**Set methods:**\n",
    "\n",
    "- Method <span style=\"color:orange\">**add()**</span>—adds an element.\n",
    "- Method <span style=\"color:orange\">**remove(value)**</span>—removes the element and returns a **KeyError** if not.\n",
    "- Method <span style=\"color:orange\">**discard(value)**</span>—removes the element and no errors."
   ]
  },
  {
   "cell_type": "code",
   "execution_count": null,
   "id": "b71a8ab7",
   "metadata": {},
   "outputs": [],
   "source": [
    "numbers = {1, 2, 3}\n",
    "numbers.add(4)\n",
    "print(numbers)  # {1, 2, 3, 4}\n",
    "\n",
    "numbers = {1, 2, 3}\n",
    "numbers.remove(3)\n",
    "# numbers.remove(4) #KeyError: 4\n",
    "print(numbers)  # {1, 2}\n",
    "\n",
    "numbers = {1, 2, 3}\n",
    "numbers.discard(2)\n",
    "print(numbers)  # {1, 3}"
   ]
  },
  {
   "cell_type": "markdown",
   "id": "def5f603",
   "metadata": {},
   "source": [
    "### Math operations with sets\n",
    "\n",
    "- <span style=\"color:orange\">**Intersection(&)**</span>—returns elemts that exist in both sets.\n",
    "- <span style=\"color:orange\">**Difference(-)**</span>—returns elements that exist **only** in the first set.\n",
    "- <span style=\"color:orange\">**Symmetric Difference(^)**</span>—returns elemets that don't exis in both sets in the same time.\n",
    "- <span style=\"color:orange\">**Union(|)**</span>—returns all elements from both sets.\n"
   ]
  },
  {
   "cell_type": "code",
   "execution_count": null,
   "id": "0d6fc864",
   "metadata": {},
   "outputs": [],
   "source": [
    "a = {1, 2, 3}\n",
    "b = {3, 4, 5}\n",
    "\n",
    "# Intersection\n",
    "print(\"Intersection\")\n",
    "print(a.intersection(b))  # {3}\n",
    "print(a & b)  # {3}\n",
    "\n",
    "# Difference\n",
    "print(\"Difference\")\n",
    "print(a.difference(b))  # {1,2}\n",
    "print(a - b)  # {1,2}\n",
    "\n",
    "# Symmetric Difference\n",
    "print(\"Symmetric Difference\")\n",
    "print(a.symmetric_difference(b))  # {1,2,4,5} \n",
    "print(a ^ b)  # {1,2,4,5}\n",
    "\n",
    "# Union\n",
    "print(\"Union\")\n",
    "print(a.union(b))  #{1,2,3,4,5}\n",
    "print(a | b)  #{1,2,3,4,5}\n"
   ]
  },
  {
   "cell_type": "markdown",
   "id": "a21c53f8",
   "metadata": {},
   "source": [
    "### Frozen Sets\n",
    "\n",
    "To created a frozen set—<span style=\"color:orange\">**frozenset([1,2])**</span>\n",
    "\n",
    "The key difference between sets and frozen ones is the frosen one cannot being changed. But we're still able to do math operations with them."
   ]
  },
  {
   "cell_type": "code",
   "execution_count": 16,
   "id": "9e87dbb4",
   "metadata": {},
   "outputs": [
    {
     "name": "stdout",
     "output_type": "stream",
     "text": [
      "frozenset({1, 2, 3, 4, 5})\n",
      "frozenset({3})\n",
      "frozenset({1, 2})\n",
      "frozenset({1, 2, 4, 5})\n"
     ]
    }
   ],
   "source": [
    "a = frozenset([1, 2, 3])\n",
    "b = frozenset([3, 4, 5])\n",
    "\n",
    "union = a | b  \n",
    "intersection = a & b  \n",
    "difference = a - b  \n",
    "symmetric_difference = a ^ b  \n",
    "\n",
    "print(union)  # frozenset({1, 2, 3, 4, 5})\n",
    "print(intersection)  # frozenset({3})\n",
    "print(difference)  # frozenset({1, 2})\n",
    "print(symmetric_difference)  # frozenset({1, 2, 4, 5})"
   ]
  },
  {
   "cell_type": "markdown",
   "id": "edb6be00",
   "metadata": {},
   "source": [
    "### Tuples\n",
    "\n",
    "To created a tuple:\n",
    "- <span style=\"color:orange\">**a = ()**</span>\n",
    "- <span style=\"color:orange\">**tuple()**</span>\n",
    "\n",
    "Tupes are immutable, and this is their main point. \n",
    "\n",
    "**Note:** To create a tuple with 1 element—**my_tuple = (1,)**, withot a comma it's just a variable with value of 1 or whatever."
   ]
  },
  {
   "cell_type": "code",
   "execution_count": 18,
   "id": "2b3fa0f3",
   "metadata": {},
   "outputs": [
    {
     "name": "stdout",
     "output_type": "stream",
     "text": [
      "(1, 2, 'Hello')\n",
      "('str', 5, True)\n",
      "str\n"
     ]
    }
   ],
   "source": [
    "my_tuple = (1,2,\"Hello\") \n",
    "print(my_tuple) # (1,2,\"Hello\")\n",
    "\n",
    "smth = \"str\", 5, True # also a tuple\n",
    "print(smth) # (\"str\", 5, True)\n",
    "\n",
    "#Getting elements\n",
    "print(smth[0]) #str"
   ]
  },
  {
   "cell_type": "markdown",
   "id": "a57f4849",
   "metadata": {
    "vscode": {
     "languageId": "julia"
    }
   },
   "source": [
    "### Slicing\n",
    "\n",
    "Slicing allows you to extract parts of sequences like lists, strings, and tuples using the syntax `[start:stop:step]`.\n",
    "\n",
    "- **start**: index to begin the slice (inclusive)\n",
    "- **stop**: index to end the slice (exclusive)\n",
    "- **step**: interval between elements\n"
   ]
  },
  {
   "cell_type": "code",
   "execution_count": 23,
   "id": "0434388e",
   "metadata": {},
   "outputs": [
    {
     "name": "stdout",
     "output_type": "stream",
     "text": [
      "[2:5]: [3, 4, 5]\n",
      "Reverse [::-1]: [7, 6, 5, 4, 3, 2, 1]\n",
      "Every 2nd element [::2]: [1, 3, 5, 7]\n",
      "[0:9]: Important\n",
      "Every 3rd char [::3]: IoaSi\n"
     ]
    }
   ],
   "source": [
    "# Slicing a list: extracting a sublist, reversing, and skipping elements\n",
    "numbers_list = [1, 2, 3, 4, 5, 6, 7]\n",
    "\n",
    "print(\"[2:5]:\", numbers_list[2:5])         # [3,4,5]\n",
    "print(\"Reverse [::-1]:\", numbers_list[::-1]) # [7,6,5,4,3,2,1]\n",
    "print(\"Every 2nd element [::2]:\", numbers_list[::2]) # [1,3,5,7]\n",
    "\n",
    "# Slicing a string: extracting substrings, reversing, and skipping characters\n",
    "text = \"ImportantString\"\n",
    "\n",
    "print(\"[0:9]:\", text[0:9])                 # 'Important'\n",
    "print(\"Every 3rd char [::3]:\", text[::3]) # 'IoaSi'"
   ]
  }
 ],
 "metadata": {
  "kernelspec": {
   "display_name": "Python 3",
   "language": "python",
   "name": "python3"
  },
  "language_info": {
   "codemirror_mode": {
    "name": "ipython",
    "version": 3
   },
   "file_extension": ".py",
   "mimetype": "text/x-python",
   "name": "python",
   "nbconvert_exporter": "python",
   "pygments_lexer": "ipython3",
   "version": "3.13.1"
  }
 },
 "nbformat": 4,
 "nbformat_minor": 5
}
