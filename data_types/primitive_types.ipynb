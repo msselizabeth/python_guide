{
 "cells": [
  {
   "cell_type": "markdown",
   "id": "052b733a",
   "metadata": {},
   "source": [
    "## Numbers\n",
    "\n",
    "Numbers are presented as:\n",
    "- integers (<span style=\"color:green\">**int**</span> — `4`, `15`, `47`);\n",
    "- real numbers (<span style=\"color:green\">**float**</span> — `0.45`, `0.5555`, `0.00325`);\n",
    "- complex numbers (<span style=\"color:green\">**complex**</span>—`1 + 2j`, `3.14 - 5.5j`).\n",
    "\n",
    "**Warning:**\n",
    "Comparing float nums is posiible unti `0.000001`\n",
    "\n",
    "For example, this code return unexpected result:\n",
    "\n",
    "**Note:** If you need to have exact result when you're solving expressions with float nums—use **<span style=\"color:orange\">Decimal</span>** library(module)."
   ]
  },
  {
   "cell_type": "code",
   "execution_count": null,
   "id": "928ed957",
   "metadata": {},
   "outputs": [],
   "source": [
    "a = 0.2 + 0.1  # 0.30000000000000004\n",
    "print(a)\n",
    "print(f\"{a:0.1f}\") # 0.3\n",
    "print(f\"{a:0.3f}\") #0.300"
   ]
  },
  {
   "cell_type": "markdown",
   "id": "45f8e673",
   "metadata": {},
   "source": [
    "## Boolean\n",
    "\n",
    "Bool types: `True` / `False `\n",
    "\n",
    "Bool types can be retrieved:\n",
    "- by assigning True/False to the variable;\n",
    "- by comparison operators;\n",
    "- by logical expressions.\n",
    "\n",
    "→🔗[Operators Notebook](../loops_and_condiitons/operators_and_order.ipynb#python-operators)"
   ]
  },
  {
   "cell_type": "code",
   "execution_count": null,
   "id": "66302628",
   "metadata": {},
   "outputs": [],
   "source": [
    "var1 = True #assigning\n",
    "var2 = 2 > 3 #comparison \n",
    "\n",
    "print(f\"Var1: {var1}\")\n",
    "print(f\"Var2: {var2}\")"
   ]
  },
  {
   "cell_type": "markdown",
   "id": "0b78c1b9",
   "metadata": {},
   "source": [
    "## Strings\n",
    "\n",
    "Strings(**str**) are immutable sequences of characters used to represent textual data.\n",
    "\n",
    "To join two string we use concatenation(+).\n",
    "\n",
    "`casefold()`— alternative to `lower()` but more efficient."
   ]
  },
  {
   "cell_type": "code",
   "execution_count": null,
   "id": "116adf10",
   "metadata": {},
   "outputs": [],
   "source": [
    "name = \"Elizabeth\" #string using \"\" \n",
    "hobbie = 'fishing' # string using ''\n",
    "concat = name + \" \" + \"loves\" + \" \" + hobbie # concatenation\n",
    "\n",
    "print(concat) # Elizabeth loves fishing"
   ]
  },
  {
   "cell_type": "markdown",
   "id": "ee9faa04",
   "metadata": {},
   "source": [
    "**Strings Methods**"
   ]
  },
  {
   "cell_type": "code",
   "execution_count": null,
   "id": "5eff8d37",
   "metadata": {},
   "outputs": [],
   "source": [
    "s = \"Hello\" \n",
    "print(s.upper()) # 'HELLO'\n",
    "\n",
    "s = \"Some Text\"\n",
    "print(s.lower())  # 'some text'\n",
    "\n",
    "s = \"Bill Jons\"\n",
    "print(s.startswith(\"Bi\"))  # True\n",
    "\n",
    "s = \"hello.jpg\"\n",
    "print(s.endswith(\"jpg\"))  # True\n",
    "\n",
    "s = \"hello world\".capitalize()  # \"Hello world\"\n",
    "s = \"hello world\".title()  #  \"Hello World\"\n",
    "\n",
    "\"123\".isdigit()  # True\n",
    "\"hello\".isalpha()  # True\n",
    "\" \".isspace()  # True\n"
   ]
  },
  {
   "cell_type": "code",
   "execution_count": null,
   "id": "1d2b735c",
   "metadata": {},
   "outputs": [],
   "source": [
    "# meking it readable in the cpode\n",
    "one_line_text = \"Textual data in Python is handled with str objects,\" \\\n",
    "                \" or strings. Strings are immutable sequences of Unicode\" \\\n",
    "                \" code points. String literals are written in a variety \" \\\n",
    "                \" of ways: single quotes, double quotes, triple quoted.\""
   ]
  },
  {
   "cell_type": "code",
   "execution_count": 2,
   "id": "1c3f9d5e",
   "metadata": {},
   "outputs": [
    {
     "name": "stdout",
     "output_type": "stream",
     "text": [
      "True\n"
     ]
    }
   ],
   "source": [
    "# implicit concatenation\n",
    "print((\"first srt + \" \"second str = \" \"3rd\") == ('first srt + second str = 3rd'))"
   ]
  },
  {
   "cell_type": "markdown",
   "id": "945eaca0",
   "metadata": {},
   "source": [
    "#### Advanced methods:\n",
    "\n",
    "- `find(str, start, end)`—searching for a char/s in a string, where `start`: a start position `end`: an end position(not included) -> returns an `index` of the first found char/s or `-1` (if not found).\n",
    "- `rfind(str, start, end)`—the same as find(), but searching from right.\n",
    "- `index(str, start, end)`—searching for a char/s in a string, where `start`: a start position `end`: an end position(not included) -> returns an `index` of the first found char/s or raise the `ValueError` (if not found).\n",
    "- `rindex(str, start, end)`—the same as index(), but searching from the right.\n",
    "- `split(sep, maxsplit)`—return a `list` of the words in the string, where `sep`: a delimiter(`,`, `<>`, etc.) or space by default, `maxsplit`: a limit of splits, unlimited by default.\n",
    "- `join(iterable)`—return a `str` which is the concatenation of the strings -> `TypeError` <span style=\"color:yellow\">**will be raised if there are any non-string values in**</span> `iterable`.\n",
    "- `replace(old, new, count)`—return a copy of the string with `old` replaced by `new`. If `count` is given, only the first `count` will be replaced, otherwise all."
   ]
  },
  {
   "cell_type": "code",
   "execution_count": null,
   "id": "1b086912",
   "metadata": {},
   "outputs": [
    {
     "name": "stdout",
     "output_type": "stream",
     "text": [
      "I'm a machine learning engineer.\n",
      "4\n",
      "-1\n",
      "4\n",
      "Welcome\n",
      "6\n",
      "1\n"
     ]
    }
   ],
   "source": [
    "#using find() and index()\n",
    "\n",
    "string = \"I\\'m a machine learning engineer.\"\n",
    "target = \"a\"\n",
    "start = 5\n",
    "end = 7\n",
    "\n",
    "print(string)\n",
    "\n",
    "result = string.find(target)\n",
    "print(result) # 4 -> a\n",
    "\n",
    "result_2 = string.find(target, start, end)\n",
    "print(result_2) # -1\n",
    "\n",
    "i_result = string.index(target)\n",
    "print(i_result)# 4 -> a\n",
    "\n",
    "# i_result_2 = string.rindex(target, start, end)\n",
    "# print(i_result_2) # ValueError\n",
    "\n",
    "# using rfind()\n",
    "r_string = \"Welcome\"\n",
    "r_target = \"e\"\n",
    "\n",
    "\n",
    "print(r_string)\n",
    "\n",
    "result_3 = r_string.rfind(r_target)\n",
    "print(result_3) # 6\n",
    "\n",
    "result_4 = r_string.find(r_target)\n",
    "print(result_4) # 1"
   ]
  },
  {
   "cell_type": "code",
   "execution_count": null,
   "id": "ddbfafff",
   "metadata": {},
   "outputs": [
    {
     "name": "stdout",
     "output_type": "stream",
     "text": [
      "['1', '2', '3', '4', '5', '6', '7']\n",
      "['1', '2', '3', '4,5,6,7']\n",
      "['Hey,', 'my', 'dear', 'friend!']\n",
      "1 2 3\n"
     ]
    }
   ],
   "source": [
    "# using split() and join ()\n",
    "values = \"1,2,3,4,5,6,7\"\n",
    "values_list = values.split(\",\") \n",
    "print(values_list) # [\"1\",\"2\",\"3\",\"4\",\"5\",\"6\",\"7\"]\n",
    "\n",
    "values_list = values.split(\",\", 3)\n",
    "print(values_list) # [\"1\",\"2\",\"3\", \"4,5,6,7\"]\n",
    "\n",
    "message = \"Hey, my dear friend!\"\n",
    "print(message.split()) # ['Hey,' , 'my' , 'dear' , 'friend!']\n",
    "\n",
    "new_list = [\"1\", \"2\", '3'] \n",
    "new_str = \" \"\n",
    "print(new_str.join(new_list)) # \"1,2,3\""
   ]
  },
  {
   "cell_type": "code",
   "execution_count": null,
   "id": "ba6396d4",
   "metadata": {},
   "outputs": [
    {
     "name": "stdout",
     "output_type": "stream",
     "text": [
      "one bird, two bird, red bird, blue bird\n",
      "one bird, two bird, red fish, blue fish\n"
     ]
    }
   ],
   "source": [
    "# method replace()\n",
    "text = \"one fish, two fish, red fish, blue fish\"\n",
    "new_text = text.replace(\"fish\", \"bird\")\n",
    "print(new_text) \n",
    "\n",
    "new_text = text.replace(\"fish\", \"bird\", 2)\n",
    "print(new_text)   "
   ]
  },
  {
   "cell_type": "code",
   "execution_count": 37,
   "id": "ce3a3e0d",
   "metadata": {},
   "outputs": [
    {
     "name": "stdout",
     "output_type": "stream",
     "text": [
      "Th3s 3s str3ng 2x1mpl2\n"
     ]
    }
   ],
   "source": [
    "intab = \"aeiou\"\n",
    "outtab = \"12345\"\n",
    "trantab = str.maketrans(intab, outtab)\n",
    "\n",
    "str = \"This is string example\"\n",
    "print(str.translate(trantab))\n"
   ]
  },
  {
   "cell_type": "markdown",
   "id": "80ac4589",
   "metadata": {},
   "source": [
    "## None\n",
    "\n",
    "None type literally means nothing. Allows to initialize a value contains nothing."
   ]
  },
  {
   "cell_type": "code",
   "execution_count": null,
   "id": "095a9139",
   "metadata": {},
   "outputs": [],
   "source": [
    "phone = None\n",
    "print(phone)\n",
    "print(type(phone))"
   ]
  },
  {
   "cell_type": "markdown",
   "id": "6b5a082e",
   "metadata": {},
   "source": [
    "## Type Casting\n",
    "\n",
    "- <span style=\"color:blue\">**int()**</span>–converts value to integer\n",
    "- <span style=\"color:blue\">**float()**</span>–convert value to float\n",
    "- <span style=\"color:blue\">**str()**</span>–converts value to string\n",
    "- <span style=\"color:blue\">**bool()**</span>–converts value to boolean"
   ]
  },
  {
   "cell_type": "code",
   "execution_count": null,
   "id": "e5c5a3e1",
   "metadata": {},
   "outputs": [],
   "source": [
    "initial_value = '2'\n",
    "print(f\"'2' To Integer: {int(initial_value)}\") \n",
    "print(f\"'2' To Float: {float(initial_value)}\")\n",
    "print(f\"'2' To Boolean: {bool(initial_value)}\")\n",
    "\n",
    "initial_value = '2.23'\n",
    "# print(f\"To Integer: {int(initial_value)}\") #ValueError\n",
    "print(f\"'2.23'To Float: {float(initial_value)}\")\n",
    "\n",
    "number = 0\n",
    "print(f\"'0' To String: {str(number)}\")\n",
    "print(f\"'0' To Boolean: {bool(number)}\")"
   ]
  }
 ],
 "metadata": {
  "kernelspec": {
   "display_name": "Python 3",
   "language": "python",
   "name": "python3"
  },
  "language_info": {
   "codemirror_mode": {
    "name": "ipython",
    "version": 3
   },
   "file_extension": ".py",
   "mimetype": "text/x-python",
   "name": "python",
   "nbconvert_exporter": "python",
   "pygments_lexer": "ipython3",
   "version": "3.13.1"
  }
 },
 "nbformat": 4,
 "nbformat_minor": 5
}
