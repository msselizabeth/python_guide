{
 "cells": [
  {
   "cell_type": "markdown",
   "id": "052b733a",
   "metadata": {},
   "source": [
    "## Numbers\n",
    "\n",
    "Numbers are presented as:\n",
    "- integers (<span style=\"color:green\">**int**</span> — `4`, `15`, `47`);\n",
    "- real numbers (<span style=\"color:green\">**float**</span> — `0.45`, `0.5555`, `0.00325`);\n",
    "- complex numbers (<span style=\"color:green\">**complex**</span>—`1 + 2j`, `3.14 - 5.5j`).\n",
    "\n",
    "**Warning:**\n",
    "Comparing float nums is posiible unti `0.000001`\n",
    "\n",
    "For example, this code return unexpected result:\n",
    "\n",
    "**Note:** If you need to have exact result when you're solving expressions with float nums—use **<span style=\"color:orange\">Decimal</span>** library(module)."
   ]
  },
  {
   "cell_type": "code",
   "execution_count": 5,
   "id": "928ed957",
   "metadata": {},
   "outputs": [
    {
     "name": "stdout",
     "output_type": "stream",
     "text": [
      "0.30000000000000004\n",
      "0.3\n",
      "0.300\n"
     ]
    }
   ],
   "source": [
    "a = 0.2 + 0.1  # 0.30000000000000004\n",
    "print(a)\n",
    "print(f\"{a:0.1f}\") # 0.3\n",
    "print(f\"{a:0.3f}\") #0.300"
   ]
  },
  {
   "cell_type": "markdown",
   "id": "45f8e673",
   "metadata": {},
   "source": [
    "## Boolean\n",
    "\n",
    "Bool types: `True` / `False `\n",
    "\n",
    "Bool types can be retrieved:\n",
    "- by assigning True/False to the variable;\n",
    "- by comparison operators;\n",
    "- by logical expressions.\n",
    "\n",
    "→🔗[Operators Notebook](./operators_and_order.ipynb#python-operators)"
   ]
  },
  {
   "cell_type": "code",
   "execution_count": null,
   "id": "66302628",
   "metadata": {},
   "outputs": [
    {
     "name": "stdout",
     "output_type": "stream",
     "text": [
      "Var1: True\n",
      "Var2: False\n"
     ]
    }
   ],
   "source": [
    "var1 = True #assigning\n",
    "var2 = 2 > 3 #comparison \n",
    "\n",
    "print(f\"Var1: {var1}\")\n",
    "print(f\"Var2: {var2}\")"
   ]
  },
  {
   "cell_type": "markdown",
   "id": "0b78c1b9",
   "metadata": {},
   "source": [
    "## Strings\n",
    "\n",
    "Strings(**str**) are immutable sequences of characters used to represent textual data.\n",
    "\n",
    "To join two string we use concatenation(+)."
   ]
  },
  {
   "cell_type": "code",
   "execution_count": null,
   "id": "116adf10",
   "metadata": {},
   "outputs": [
    {
     "name": "stdout",
     "output_type": "stream",
     "text": [
      "Elizabeth loves fishing\n"
     ]
    }
   ],
   "source": [
    "name = \"Elizabeth\" #string using \"\" \n",
    "hobbie = 'fishing' # string using ''\n",
    "concat = name + \" \" + \"loves\" + \" \" + hobbie # concatenation\n",
    "\n",
    "print(concat) # Elizabeth loves fishing"
   ]
  },
  {
   "cell_type": "markdown",
   "id": "80ac4589",
   "metadata": {},
   "source": [
    "## None\n",
    "\n",
    "None type literally means nothing. Allows to initialize a value contains nothing."
   ]
  },
  {
   "cell_type": "code",
   "execution_count": 9,
   "id": "095a9139",
   "metadata": {},
   "outputs": [
    {
     "name": "stdout",
     "output_type": "stream",
     "text": [
      "None\n",
      "<class 'NoneType'>\n"
     ]
    }
   ],
   "source": [
    "phone = None\n",
    "print(phone)\n",
    "print(type(phone))"
   ]
  },
  {
   "cell_type": "markdown",
   "id": "6b5a082e",
   "metadata": {},
   "source": [
    "## Type Casting\n",
    "\n",
    "- <span style=\"color:blue\">**int()**</span>–converts value to integer\n",
    "- <span style=\"color:blue\">**float()**</span>–convert value to float\n",
    "- <span style=\"color:blue\">**str()**</span>–converts value to string\n",
    "- <span style=\"color:blue\">**bool()**</span>–converts value to boolean"
   ]
  },
  {
   "cell_type": "code",
   "execution_count": 4,
   "id": "e5c5a3e1",
   "metadata": {},
   "outputs": [
    {
     "name": "stdout",
     "output_type": "stream",
     "text": [
      "'2' To Integer: 2\n",
      "'2' To Float: 2.0\n",
      "'2' To Boolean: True\n",
      "'2.23'To Float: 2.23\n",
      "'0' To String: 0\n",
      "'0' To Boolean: False\n"
     ]
    }
   ],
   "source": [
    "initial_value = '2'\n",
    "print(f\"'2' To Integer: {int(initial_value)}\") \n",
    "print(f\"'2' To Float: {float(initial_value)}\")\n",
    "print(f\"'2' To Boolean: {bool(initial_value)}\")\n",
    "\n",
    "initial_value = '2.23'\n",
    "# print(f\"To Integer: {int(initial_value)}\") #ValueError\n",
    "print(f\"'2.23'To Float: {float(initial_value)}\")\n",
    "\n",
    "number = 0\n",
    "print(f\"'0' To String: {str(number)}\")\n",
    "print(f\"'0' To Boolean: {bool(number)}\")"
   ]
  }
 ],
 "metadata": {
  "kernelspec": {
   "display_name": "Python 3",
   "language": "python",
   "name": "python3"
  },
  "language_info": {
   "codemirror_mode": {
    "name": "ipython",
    "version": 3
   },
   "file_extension": ".py",
   "mimetype": "text/x-python",
   "name": "python",
   "nbconvert_exporter": "python",
   "pygments_lexer": "ipython3",
   "version": "3.13.1"
  }
 },
 "nbformat": 4,
 "nbformat_minor": 5
}
