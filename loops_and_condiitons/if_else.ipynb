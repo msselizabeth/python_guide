{
 "cells": [
  {
   "cell_type": "markdown",
   "id": "805fce1f",
   "metadata": {},
   "source": [
    "### IF...ELIF...ELSE \n",
    "\n",
    "The `if` statement returns `True` if the expression **satisfies** the condition, and then and ONLY then the code under the statement executes. \n",
    "\n",
    "The `elif` statement is an additional statemуnt, returns `True` if the expression **satisfies** the condition.\n",
    "\n",
    "Otherwise Tthe `else` statement executes. The else is optional."
   ]
  },
  {
   "cell_type": "code",
   "execution_count": 2,
   "id": "bdb2afdc",
   "metadata": {},
   "outputs": [
    {
     "name": "stdout",
     "output_type": "stream",
     "text": [
      "You're good\n"
     ]
    }
   ],
   "source": [
    "num = 25  \n",
    "\n",
    "if num < 18:\n",
    "    print(\"You're too young.\")\n",
    "else:\n",
    "    print(\"You're good\")"
   ]
  },
  {
   "cell_type": "code",
   "execution_count": 9,
   "id": "4c0dc49d",
   "metadata": {},
   "outputs": [
    {
     "name": "stdout",
     "output_type": "stream",
     "text": [
      "You have 10% discount!\n"
     ]
    }
   ],
   "source": [
    "# Discounts \n",
    "total_expenses = 2000\n",
    "discounts = {\n",
    "    \"10%\": 1375,\n",
    "    \"15%\": 2125,\n",
    "    \"20%\": 3500\n",
    "}\n",
    "\n",
    "if total_expenses < discounts[\"10%\"]:\n",
    "    print(f\"You need to spend more money\")\n",
    "elif total_expenses >= discounts[\"10%\"] and total_expenses < discounts[\"15%\"]:\n",
    "    print(f\"You have 10% discount!\")\n",
    "elif total_expenses >= discounts[\"15%\"] and total_expenses < discounts[\"20%\"]:\n",
    "    print(f\"You have 15% discount!\")\n",
    "else:\n",
    "    print(\"You have 20%—maximum.\")"
   ]
  }
 ],
 "metadata": {
  "kernelspec": {
   "display_name": "Python 3",
   "language": "python",
   "name": "python3"
  },
  "language_info": {
   "codemirror_mode": {
    "name": "ipython",
    "version": 3
   },
   "file_extension": ".py",
   "mimetype": "text/x-python",
   "name": "python",
   "nbconvert_exporter": "python",
   "pygments_lexer": "ipython3",
   "version": "3.13.1"
  }
 },
 "nbformat": 4,
 "nbformat_minor": 5
}
