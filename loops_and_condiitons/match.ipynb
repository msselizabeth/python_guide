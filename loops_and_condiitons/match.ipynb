{
 "cells": [
  {
   "cell_type": "markdown",
   "id": "35356f5c",
   "metadata": {},
   "source": [
    "### Match\n",
    "\n",
    "`Match` operator allows comparison between few templates and execute differents parts of the code depends on the case."
   ]
  },
  {
   "cell_type": "code",
   "execution_count": null,
   "id": "7c4aac8d",
   "metadata": {},
   "outputs": [
    {
     "name": "stdout",
     "output_type": "stream",
     "text": [
      "Unknown fruit.\n"
     ]
    }
   ],
   "source": [
    "fruit = \"ple\"\n",
    "\n",
    "match fruit:\n",
    "    case \"apple\":\n",
    "        print(\"This is an apple.\")\n",
    "    case \"banana\":\n",
    "        print(\"This is a banana.\")\n",
    "    case \"orange\":\n",
    "        print(\"This is an orange.\")\n",
    "    case _: # default execution in undescribed case\n",
    "        print(\"Unknown fruit.\") "
   ]
  },
  {
   "cell_type": "code",
   "execution_count": null,
   "id": "6a13f848",
   "metadata": {},
   "outputs": [
    {
     "name": "stdout",
     "output_type": "stream",
     "text": [
      "Axis Y: y=1\n"
     ]
    }
   ],
   "source": [
    "point = (0,1)\n",
    "\n",
    "match point:\n",
    "    case (0, 0):\n",
    "        print(\"Coordinate center 0,0\")  \n",
    "    case (0, y):\n",
    "        print(f\"Axis Y: y={y}\")  \n",
    "    case (x, 0):\n",
    "        print(f\"Axis X: x={x}\") \n",
    "    case (x, y):\n",
    "        print(f\"The coordinates  x={x}, y={y}\") \n",
    "    case _:\n",
    "        print(\"Unpredictable point\")"
   ]
  },
  {
   "cell_type": "code",
   "execution_count": null,
   "id": "4da558f7",
   "metadata": {},
   "outputs": [
    {
     "name": "stdout",
     "output_type": "stream",
     "text": [
      "No dogs.\n"
     ]
    }
   ],
   "source": [
    "pets = [\"dog\", \"fish\", \"cat\"]\n",
    "\n",
    "match pets:\n",
    "    case [\"dog\", \"cat\", _]:\n",
    "        # Case when bot cat and dog exist in the list at the 1 and 2 positions\n",
    "        print(\"There's a dog and a cat.\")\n",
    "    case [\"dog\", _, _]:\n",
    "        # Only dog at the first position!\n",
    "        print(\"There's a dog.\")\n",
    "    case _:\n",
    "        # Default\n",
    "        print(\"No dogs.\")\n"
   ]
  }
 ],
 "metadata": {
  "kernelspec": {
   "display_name": "Python 3",
   "language": "python",
   "name": "python3"
  },
  "language_info": {
   "codemirror_mode": {
    "name": "ipython",
    "version": 3
   },
   "file_extension": ".py",
   "mimetype": "text/x-python",
   "name": "python",
   "nbconvert_exporter": "python",
   "pygments_lexer": "ipython3",
   "version": "3.13.1"
  }
 },
 "nbformat": 4,
 "nbformat_minor": 5
}
