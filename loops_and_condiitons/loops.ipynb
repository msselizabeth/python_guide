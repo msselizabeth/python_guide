{
 "cells": [
  {
   "cell_type": "markdown",
   "id": "f9a24cd1",
   "metadata": {},
   "source": [
    "### Loops\n",
    "\n",
    "- `for` loop—iterates throug the list, tuple, string.\n",
    "- `while`—executes the code while statement is `True`"
   ]
  },
  {
   "cell_type": "code",
   "execution_count": null,
   "id": "fc8be152",
   "metadata": {},
   "outputs": [],
   "source": [
    "fruit = 'apple'\n",
    "\n",
    "for char in fruit:\n",
    "    print(char, end=\" \")"
   ]
  },
  {
   "cell_type": "code",
   "execution_count": null,
   "id": "95e1d94f",
   "metadata": {},
   "outputs": [],
   "source": [
    "some_iterable = [\"a\", \"b\", \"c\"]\n",
    "\n",
    "for i in some_iterable:\n",
    "    print(i)"
   ]
  },
  {
   "cell_type": "code",
   "execution_count": null,
   "id": "7999f62e",
   "metadata": {},
   "outputs": [],
   "source": [
    "odd_numbers = [1, 3, 5, 7, 9]\n",
    "\n",
    "for i in odd_numbers:\n",
    "    print(i ** 2)"
   ]
  },
  {
   "cell_type": "code",
   "execution_count": null,
   "id": "394d782e",
   "metadata": {},
   "outputs": [],
   "source": [
    "# For loop and dicts\n",
    "numbers = {\n",
    "    1: \"one\",\n",
    "    2: \"two\",\n",
    "    3: \"three\"\n",
    "}\n",
    "\n",
    "for key in numbers:\n",
    "    print(key)\n",
    "    \n",
    "for value in numbers.values():\n",
    "    print(value)\n",
    "\n",
    "for key, value in numbers.items():\n",
    "    print(key, value)"
   ]
  },
  {
   "cell_type": "code",
   "execution_count": null,
   "id": "923c810b",
   "metadata": {},
   "outputs": [],
   "source": [
    "k = 0\n",
    "\n",
    "while k < 10:\n",
    "    k = k + 1\n",
    "    print(k)"
   ]
  },
  {
   "cell_type": "markdown",
   "id": "b1552caf",
   "metadata": {},
   "source": [
    "### Break and Continue\n",
    "\n",
    "- `break` interrupts a loop and doesn't procced the currrent iteration.\n",
    "- `continue` interupts an iteration and goes to the next iteration."
   ]
  },
  {
   "cell_type": "code",
   "execution_count": null,
   "id": "8fcab6f7",
   "metadata": {},
   "outputs": [],
   "source": [
    "a = 0\n",
    "\n",
    "while True:\n",
    "    print(a)\n",
    "    if a >= 5:\n",
    "        break # when a >= 5 stop the loop\n",
    "    a = a + 1"
   ]
  },
  {
   "cell_type": "markdown",
   "id": "771ab98b",
   "metadata": {},
   "source": [
    "<span style=\"color:yellow\">**Warning:**</span> `%` gives the remainder — if you do `a % 2`, you’ll get 0 for even numbers and 1 for odd ones; and `not a % 2` (or `a % 2 == 0`) means “even”."
   ]
  },
  {
   "cell_type": "code",
   "execution_count": null,
   "id": "ed7c62c5",
   "metadata": {},
   "outputs": [],
   "source": [
    "a = 0\n",
    "b = 0\n",
    "\n",
    "#return odds\n",
    "print(\"Odds\")\n",
    "while a < 6:\n",
    "    a = a + 1\n",
    "    if not a % 2: # multiply by 2\n",
    "        continue\n",
    "    print(a)\n",
    "    \n",
    "# return evens\n",
    "print(\"Evens\")\n",
    "while b < 6:\n",
    "    b = b + 1\n",
    "    if b % 2: # multiply by 2\n",
    "        continue\n",
    "    print(b)"
   ]
  },
  {
   "cell_type": "markdown",
   "id": "c2bdf29e",
   "metadata": {},
   "source": [
    "**Gauss Formula**\n",
    "\n",
    "<img src=\"../gauss_formula.png\" alt=\"gauss formula\" width=\"300\"/>"
   ]
  },
  {
   "cell_type": "code",
   "execution_count": 23,
   "id": "2faac7e9",
   "metadata": {},
   "outputs": [
    {
     "name": "stdout",
     "output_type": "stream",
     "text": [
      "15\n"
     ]
    }
   ],
   "source": [
    "n = 5\n",
    "total = 0\n",
    "\n",
    "while n > 0:\n",
    "    total += n\n",
    "    n -= 1\n",
    "\n",
    "print(total)"
   ]
  }
 ],
 "metadata": {
  "kernelspec": {
   "display_name": "Python 3",
   "language": "python",
   "name": "python3"
  },
  "language_info": {
   "codemirror_mode": {
    "name": "ipython",
    "version": 3
   },
   "file_extension": ".py",
   "mimetype": "text/x-python",
   "name": "python",
   "nbconvert_exporter": "python",
   "pygments_lexer": "ipython3",
   "version": "3.13.1"
  }
 },
 "nbformat": 4,
 "nbformat_minor": 5
}
