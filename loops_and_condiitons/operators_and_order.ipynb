{
 "cells": [
  {
   "cell_type": "markdown",
   "id": "900c5211",
   "metadata": {},
   "source": [
    "## Python Operators\n",
    "\n",
    "| Category       | Operators                          | Example              |\n",
    "|----------------|-----------------------------------|----------------------|\n",
    "| Arithmetic     | `+`, `-`, `*`, `/`, `//`, `%`, `**` | `5 + 3 = 8`          |\n",
    "| Comparison     | `==`, `!=`, `>`, `<`, `>=`, `<=`   | `a != b`             |\n",
    "| Assignment     | `=`, `+=`, `-=`, `*=`, `/=`, `//=`, `%=`, `**=` | `x += 1` |\n",
    "| Logical        | `and`, `or`, `not`                 | `a and b`            |\n",
    "| Identity       | `is`, `is not`                     | `a is b`             |\n",
    "| Membership     | `in`, `not in`                     | `'x' in 'text'`      |\n",
    "| Bitwise        | `&`, `\\|`, `^`, `~`, `<<`, `>>`     | `a & b`              |\n",
    "\n",
    "### Operator Precedence (from highest to lowest)\n",
    "\n",
    "| Precedence | Operators                                     | Description                          |\n",
    "|------------|-----------------------------------------------|--------------------------------------|\n",
    "| 1 (highest)| `()`                                          | Parentheses (grouping)               |\n",
    "| 2          | `**`                                          | Exponentiation                       |\n",
    "| 3          | `+x`, `-x`, `~x`                              | Unary plus, minus, bitwise NOT       |\n",
    "| 4          | `*`, `/`, `//`, `%`                           | Multiplication, division, floor, mod |\n",
    "| 5          | `+`, `-`                                      | Addition, subtraction                |\n",
    "| 6          | `<<`, `>>`                                    | Bitwise shift                        |\n",
    "| 7          | `&`                                           | Bitwise AND                          |\n",
    "| 8          | `^`                                           | Bitwise XOR                          |\n",
    "| 9          | `\\|`                              | Bitwise OR                           |\n",
    "| 10         | `==`, `!=`, `>`, `<`, `>=`, `<=`, `is`, `is not`, `in`, `not in` | Comparisons |\n",
    "| 11         | `not`                                         | Logical NOT                          |\n",
    "| 12         | `and`                                         | Logical AND                          |\n",
    "| 13         | `or`                                          | Logical OR                           |\n",
    "| 14 (lowest)| `=`, `+=`, `-=`, `*=`, `/=`, `//=`, `%=`, `**=`, `&=`, `\\|=`, `^=`, `>>=`, `<<=` | Assignment |\n",
    "\n"
   ]
  },
  {
   "cell_type": "code",
   "execution_count": 1,
   "id": "25b566d4",
   "metadata": {},
   "outputs": [
    {
     "name": "stdout",
     "output_type": "stream",
     "text": [
      "Expression-1: -9\n",
      "Expression-2: 9\n"
     ]
    }
   ],
   "source": [
    "exp_1 = -3 ** 2 # -9\n",
    "exp_2 = (-3) ** 2 # 9\n",
    "\n",
    "print(f\"Expression-1: {exp_1}\")\n",
    "print(f\"Expression-2: {exp_2}\")"
   ]
  },
  {
   "cell_type": "code",
   "execution_count": 3,
   "id": "5c683185",
   "metadata": {},
   "outputs": [
    {
     "name": "stdout",
     "output_type": "stream",
     "text": [
      "21.213203435596427\n"
     ]
    }
   ],
   "source": [
    "# Formula Evclida\n",
    "x1 = 10\n",
    "x2 = 25\n",
    "y1 = 10\n",
    "y2 = 25\n",
    "\n",
    "d = ((x1 - x2)**2 + (y1 - y2)**2)**0.5 # **0.5–square root\n",
    "print(d)"
   ]
  }
 ],
 "metadata": {
  "kernelspec": {
   "display_name": "Python 3",
   "language": "python",
   "name": "python3"
  },
  "language_info": {
   "codemirror_mode": {
    "name": "ipython",
    "version": 3
   },
   "file_extension": ".py",
   "mimetype": "text/x-python",
   "name": "python",
   "nbconvert_exporter": "python",
   "pygments_lexer": "ipython3",
   "version": "3.13.1"
  }
 },
 "nbformat": 4,
 "nbformat_minor": 5
}
