{
 "cells": [
  {
   "cell_type": "markdown",
   "id": "900c5211",
   "metadata": {},
   "source": [
    "## Python Operators\n",
    "\n",
    "| Category       | Operators                          | Example              |\n",
    "|----------------|-----------------------------------|----------------------|\n",
    "| Arithmetic     | `+`, `-`, `*`, `/`, `//`, `%`, `**` | `5 + 3 = 8`          |\n",
    "| Comparison     | `==`, `!=`, `>`, `<`, `>=`, `<=`   | `a != b`             |\n",
    "| Assignment     | `=`, `+=`, `-=`, `*=`, `/=`, `//=`, `%=`, `**=` | `x += 1` |\n",
    "| Logical        | `and`, `or`, `not`                 | `a and b`            |\n",
    "| Identity       | `is`, `is not`                     | `a is b`             |\n",
    "| Membership     | `in`, `not in`                     | `'x' in 'text'`      |\n",
    "| Bitwise        | `&`, `\\|`, `^`, `~`, `<<`, `>>`     | `a & b`              |\n",
    "\n",
    "### Operator Precedence (from highest to lowest)\n",
    "\n",
    "| Precedence | Operators                                     | Description                          |\n",
    "|------------|-----------------------------------------------|--------------------------------------|\n",
    "| 1 (highest)| `()`                                          | Parentheses (grouping)               |\n",
    "| 2          | `**`                                          | Exponentiation                       |\n",
    "| 3          | `+x`, `-x`, `~x`                              | Unary plus, minus, bitwise NOT       |\n",
    "| 4          | `*`, `/`, `//`, `%`                           | Multiplication, division, floor, mod |\n",
    "| 5          | `+`, `-`                                      | Addition, subtraction                |\n",
    "| 6          | `<<`, `>>`                                    | Bitwise shift                        |\n",
    "| 7          | `&`                                           | Bitwise AND                          |\n",
    "| 8          | `^`                                           | Bitwise XOR                          |\n",
    "| 9          | `\\|`                              | Bitwise OR                           |\n",
    "| 10         | `==`, `!=`, `>`, `<`, `>=`, `<=`, `is`, `is not`, `in`, `not in` | Comparisons |\n",
    "| 11         | `not`                                         | Logical NOT                          |\n",
    "| 12         | `and`                                         | Logical AND                          |\n",
    "| 13         | `or`                                          | Logical OR                           |\n",
    "| 14 (lowest)| `=`, `+=`, `-=`, `*=`, `/=`, `//=`, `%=`, `**=`, `&=`, `\\|=`, `^=`, `>>=`, `<<=` | Assignment |\n",
    "\n"
   ]
  },
  {
   "cell_type": "code",
   "execution_count": 1,
   "id": "25b566d4",
   "metadata": {},
   "outputs": [
    {
     "name": "stdout",
     "output_type": "stream",
     "text": [
      "Expression-1: -9\n",
      "Expression-2: 9\n"
     ]
    }
   ],
   "source": [
    "exp_1 = -3 ** 2 # -9\n",
    "exp_2 = (-3) ** 2 # 9\n",
    "\n",
    "print(f\"Expression-1: {exp_1}\")\n",
    "print(f\"Expression-2: {exp_2}\")"
   ]
  },
  {
   "cell_type": "code",
   "execution_count": null,
   "id": "5c683185",
   "metadata": {},
   "outputs": [
    {
     "name": "stdout",
     "output_type": "stream",
     "text": [
      "21.213203435596427\n"
     ]
    }
   ],
   "source": [
    "# Order of execution\n",
    "x1 = 10\n",
    "x2 = 25\n",
    "y1 = 10\n",
    "y2 = 25\n",
    "\n",
    "d = ((x1 - x2)**2 + (y1 - y2)**2)**0.5 # **0.5–square root\n",
    "print(d)"
   ]
  },
  {
   "cell_type": "markdown",
   "id": "53edc34e",
   "metadata": {},
   "source": [
    "### Logical Operators\n",
    "\n",
    "- `AND`—returns `True` if both operands are `True`.\n",
    "- `OR`—returns `True` if one of the operands is `True`.\n",
    "- `NOT`—returns an opposite value of the operand."
   ]
  },
  {
   "cell_type": "code",
   "execution_count": 6,
   "id": "cae2a4bd",
   "metadata": {},
   "outputs": [
    {
     "name": "stdout",
     "output_type": "stream",
     "text": [
      "0\n",
      "str\n",
      "\n",
      "str\n",
      "False\n",
      "True\n"
     ]
    }
   ],
   "source": [
    "a = 1\n",
    "b = 0\n",
    "c = ''\n",
    "d = \"str\"\n",
    "\n",
    "#AND\n",
    "print(a and b) # 0—False\n",
    "print(a and d) # str—True\n",
    "\n",
    "#OR\n",
    "print(b or c) # ''—False\n",
    "print(b or d) # str—True\n",
    "\n",
    "#NOT\n",
    "print(not a) # False\n",
    "print(not b) # True"
   ]
  },
  {
   "cell_type": "code",
   "execution_count": 8,
   "id": "370a8653",
   "metadata": {},
   "outputs": [
    {
     "name": "stdout",
     "output_type": "stream",
     "text": [
      "FizzBuzz\n"
     ]
    }
   ],
   "source": [
    "#FizzBuzz\n",
    "a = 15\n",
    "\n",
    "if a % 3 == 0 and a % 5 == 0:\n",
    "    print(\"FizzBuzz\")\n",
    "elif a % 3 == 0:\n",
    "    print(\"Fizz\")\n",
    "elif a % 5 == 0:\n",
    "    print(\"Buzz\")"
   ]
  },
  {
   "cell_type": "markdown",
   "id": "60a06d3d",
   "metadata": {},
   "source": [
    "### Operator IS\n",
    "\n",
    "Operator `is` checks if two objects point to the same memory location. It **doesn't** check if two object equal."
   ]
  },
  {
   "cell_type": "code",
   "execution_count": 1,
   "id": "ae800314",
   "metadata": {},
   "outputs": [
    {
     "name": "stdout",
     "output_type": "stream",
     "text": [
      "True\n",
      "False\n",
      "Var is None\n"
     ]
    }
   ],
   "source": [
    "a = [1, 2, 3]\n",
    "b = a\n",
    "c = [1, 2, 3]\n",
    "\n",
    "print(a is b)  # True\n",
    "print(a is c)  # False\n",
    "\n",
    "#use case\n",
    "var = None\n",
    "\n",
    "if var is None:\n",
    "    print(\"Var is None\")"
   ]
  },
  {
   "cell_type": "markdown",
   "id": "d9c1832e",
   "metadata": {},
   "source": [
    "### Ternary operator\n",
    "\n",
    "`variable = \"true\" if value else \"false\"`"
   ]
  },
  {
   "cell_type": "code",
   "execution_count": 15,
   "id": "ee5b6ccd",
   "metadata": {},
   "outputs": [
    {
     "name": "stdout",
     "output_type": "stream",
     "text": [
      "multiple of 2\n",
      "Anon\n"
     ]
    }
   ],
   "source": [
    "a = 10\n",
    "\n",
    "result = \"multiple of 2\" if a % 2 == 0  else \"no\" # result of a % 2 = 0 -> False \n",
    "print(result)\n",
    "\n",
    "name = None\n",
    "print(name or \"Anon\")"
   ]
  }
 ],
 "metadata": {
  "kernelspec": {
   "display_name": "Python 3",
   "language": "python",
   "name": "python3"
  },
  "language_info": {
   "codemirror_mode": {
    "name": "ipython",
    "version": 3
   },
   "file_extension": ".py",
   "mimetype": "text/x-python",
   "name": "python",
   "nbconvert_exporter": "python",
   "pygments_lexer": "ipython3",
   "version": "3.13.1"
  }
 },
 "nbformat": 4,
 "nbformat_minor": 5
}
