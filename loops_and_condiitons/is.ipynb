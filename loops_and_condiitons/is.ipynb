{
 "cells": [
  {
   "cell_type": "markdown",
   "id": "c883c237",
   "metadata": {},
   "source": [
    "### Operator IS\n",
    "\n",
    "Operator `is` checks if two objects point to the same memory location. It **doesn't** check if two object equal."
   ]
  },
  {
   "cell_type": "code",
   "execution_count": 2,
   "id": "7e282af2",
   "metadata": {},
   "outputs": [
    {
     "name": "stdout",
     "output_type": "stream",
     "text": [
      "True\n",
      "False\n"
     ]
    }
   ],
   "source": [
    "a = [1, 2, 3]\n",
    "b = a\n",
    "c = [1, 2, 3]\n",
    "\n",
    "print(a is b)  # True\n",
    "print(a is c)  # False"
   ]
  },
  {
   "cell_type": "code",
   "execution_count": 4,
   "id": "85bcc296",
   "metadata": {},
   "outputs": [
    {
     "name": "stdout",
     "output_type": "stream",
     "text": [
      "Var is None\n"
     ]
    }
   ],
   "source": [
    "#use case\n",
    "var = None\n",
    "\n",
    "if var is None:\n",
    "    print(\"Var is None\")"
   ]
  }
 ],
 "metadata": {
  "kernelspec": {
   "display_name": "Python 3",
   "language": "python",
   "name": "python3"
  },
  "language_info": {
   "codemirror_mode": {
    "name": "ipython",
    "version": 3
   },
   "file_extension": ".py",
   "mimetype": "text/x-python",
   "name": "python",
   "nbconvert_exporter": "python",
   "pygments_lexer": "ipython3",
   "version": "3.13.1"
  }
 },
 "nbformat": 4,
 "nbformat_minor": 5
}
