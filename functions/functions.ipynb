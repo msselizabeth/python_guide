{
 "cells": [
  {
   "cell_type": "markdown",
   "id": "d45e95f3",
   "metadata": {},
   "source": [
    "### Functions\n",
    "\n",
    "- `def`— the key word to declare a function.\n",
    "- `return`— is used to return value or whatever form the function. Returns `None` by default."
   ]
  },
  {
   "cell_type": "code",
   "execution_count": null,
   "id": "a8ec06be",
   "metadata": {},
   "outputs": [
    {
     "name": "stdout",
     "output_type": "stream",
     "text": [
      "None\n",
      "Hello world!\n"
     ]
    }
   ],
   "source": [
    "def hey():\n",
    "    \"Hi there!\"\n",
    "    # return None\n",
    "\n",
    "def hello():\n",
    "    return \"Hello world!\"\n",
    "    # return \"Hello world!\"\n",
    "    \n",
    "print(hey()) # None\n",
    "print(hello()) # \"Hello world!\""
   ]
  },
  {
   "cell_type": "markdown",
   "id": "6d41b93d",
   "metadata": {},
   "source": [
    "**Type hints of params**\n",
    "\n",
    "**Type hints are only hints** — they’re not rules."
   ]
  },
  {
   "cell_type": "code",
   "execution_count": null,
   "id": "033766ce",
   "metadata": {},
   "outputs": [
    {
     "data": {
      "text/plain": [
       "8.8"
      ]
     },
     "execution_count": 3,
     "metadata": {},
     "output_type": "execute_result"
    }
   ],
   "source": [
    "def some_func(a: int, b: float):\n",
    "    return round((a * b), 2)\n",
    "\n",
    "some_func(2.2, 4) # no errors"
   ]
  },
  {
   "cell_type": "code",
   "execution_count": null,
   "id": "2ae753a7",
   "metadata": {},
   "outputs": [
    {
     "ename": "TypeError",
     "evalue": "a must be int and ",
     "output_type": "error",
     "traceback": [
      "\u001b[31m---------------------------------------------------------------------------\u001b[39m",
      "\u001b[31mTypeError\u001b[39m                                 Traceback (most recent call last)",
      "\u001b[36mCell\u001b[39m\u001b[36m \u001b[39m\u001b[32mIn[10]\u001b[39m\u001b[32m, line 8\u001b[39m\n\u001b[32m      5\u001b[39m         \u001b[38;5;28;01mraise\u001b[39;00m \u001b[38;5;167;01mTypeError\u001b[39;00m(\u001b[33m\"\u001b[39m\u001b[33mb must be float \u001b[39m\u001b[33m\"\u001b[39m)\n\u001b[32m      6\u001b[39m     \u001b[38;5;28;01mreturn\u001b[39;00m \u001b[38;5;28mround\u001b[39m((a * b), \u001b[32m2\u001b[39m)\n\u001b[32m----> \u001b[39m\u001b[32m8\u001b[39m \u001b[43msome_func\u001b[49m\u001b[43m(\u001b[49m\u001b[32;43m2.2\u001b[39;49m\u001b[43m,\u001b[49m\u001b[43m \u001b[49m\u001b[32;43m4\u001b[39;49m\u001b[43m)\u001b[49m \u001b[38;5;66;03m#TypeError: a must be int and b must be float\u001b[39;00m\n",
      "\u001b[36mCell\u001b[39m\u001b[36m \u001b[39m\u001b[32mIn[10]\u001b[39m\u001b[32m, line 3\u001b[39m, in \u001b[36msome_func\u001b[39m\u001b[34m(a, b)\u001b[39m\n\u001b[32m      1\u001b[39m \u001b[38;5;28;01mdef\u001b[39;00m\u001b[38;5;250m \u001b[39m\u001b[34msome_func\u001b[39m(a: \u001b[38;5;28mint\u001b[39m, b: \u001b[38;5;28mfloat\u001b[39m):\n\u001b[32m      2\u001b[39m     \u001b[38;5;28;01mif\u001b[39;00m \u001b[38;5;129;01mnot\u001b[39;00m \u001b[38;5;28misinstance\u001b[39m(a, \u001b[38;5;28mint\u001b[39m):\n\u001b[32m----> \u001b[39m\u001b[32m3\u001b[39m         \u001b[38;5;28;01mraise\u001b[39;00m \u001b[38;5;167;01mTypeError\u001b[39;00m(\u001b[33m\"\u001b[39m\u001b[33ma must be int and \u001b[39m\u001b[33m\"\u001b[39m)\n\u001b[32m      4\u001b[39m     \u001b[38;5;28;01mif\u001b[39;00m \u001b[38;5;129;01mnot\u001b[39;00m \u001b[38;5;28misinstance\u001b[39m(b, \u001b[38;5;28mfloat\u001b[39m):\n\u001b[32m      5\u001b[39m         \u001b[38;5;28;01mraise\u001b[39;00m \u001b[38;5;167;01mTypeError\u001b[39;00m(\u001b[33m\"\u001b[39m\u001b[33mb must be float \u001b[39m\u001b[33m\"\u001b[39m)\n",
      "\u001b[31mTypeError\u001b[39m: a must be int and "
     ]
    }
   ],
   "source": [
    "def some_func(a: int, b: float):\n",
    "    if not isinstance(a, int):\n",
    "        raise TypeError(\"a must be int and \")\n",
    "    if not isinstance(b, float):\n",
    "        raise TypeError(\"b must be float \")\n",
    "    return round((a * b), 2)\n",
    "\n",
    "some_func(2.2, 4) # TypeError"
   ]
  },
  {
   "cell_type": "code",
   "execution_count": null,
   "id": "85a73dd8",
   "metadata": {},
   "outputs": [
    {
     "name": "stdout",
     "output_type": "stream",
     "text": [
      "hh\n"
     ]
    }
   ],
   "source": [
    "def add_numbers(num1: int, num2: int) -> int: # -> int— type of return\n",
    "    sum = num1 + num2\n",
    "    return sum\n",
    "\n",
    "result = add_numbers(5, 10)\n",
    "print(result)  # 15\n"
   ]
  },
  {
   "cell_type": "markdown",
   "id": "d87914bf",
   "metadata": {},
   "source": [
    "### Scopes\n",
    "\n",
    "Scopes **(LEGB)**:\n",
    "- `L` - Local (ex: inside a function)\n",
    "- `E` - Enclosing (ex: inside another function)\n",
    "- `G` - Global (ex: variables are available for the whole file/module/entities)\n",
    "- `D` - Built-in (ex: func len(), range())"
   ]
  },
  {
   "cell_type": "code",
   "execution_count": null,
   "id": "687587e3",
   "metadata": {},
   "outputs": [
    {
     "name": "stdout",
     "output_type": "stream",
     "text": [
      "6\n",
      "0\n"
     ]
    }
   ],
   "source": [
    "# Local\n",
    "a = 0\n",
    "def func():\n",
    "    a = 6 #local variable\n",
    "    print(a) # 6\n",
    "    \n",
    "func() # 6\n",
    "print(a) # 0"
   ]
  },
  {
   "cell_type": "code",
   "execution_count": null,
   "id": "4db9e22c",
   "metadata": {},
   "outputs": [
    {
     "name": "stdout",
     "output_type": "stream",
     "text": [
      "9\n",
      "18\n"
     ]
    }
   ],
   "source": [
    "# Using enclosing variable\n",
    "def func_1():\n",
    "    a = 9  # 'a' is defined in the enclosing (outer) function scope\n",
    "    \n",
    "    def inner_func():\n",
    "        sum = 2 * a  # uses 'a' from the enclosing scope (read-only access)\n",
    "        return sum   # returns 18 (2 * 9)\n",
    "    \n",
    "    print(a)              # prints 9 (value from enclosing scope)\n",
    "    print(inner_func())   # calls inner_func(), prints 18\n",
    "\n",
    "func_1()  # executes the outer function\n"
   ]
  },
  {
   "cell_type": "code",
   "execution_count": null,
   "id": "81a6fa19",
   "metadata": {},
   "outputs": [
    {
     "name": "stdout",
     "output_type": "stream",
     "text": [
      "7\n"
     ]
    }
   ],
   "source": [
    "#Change a local variable in enclosing scope\n",
    "def outer():\n",
    "    x = 2 # ← variable in the enclosing (non-global) scope\n",
    "    \n",
    "    def inner():\n",
    "        nonlocal x # ← refers to x in outer(), not a new local one\n",
    "        x = 7 # ← modifies the outer x\n",
    "    inner()\n",
    "    print(x) # ← prints the modified value\n",
    "    \n",
    "outer()"
   ]
  },
  {
   "cell_type": "code",
   "execution_count": 28,
   "id": "b69a8daa",
   "metadata": {},
   "outputs": [
    {
     "name": "stdout",
     "output_type": "stream",
     "text": [
      "x = 50\n",
      "Changes global x to: 2\n",
      "x = 2\n"
     ]
    }
   ],
   "source": [
    "# Global variable\n",
    "x = 50  # defined in the global scope\n",
    "\n",
    "def func():\n",
    "    global x             # use the global 'x', not create a new local one\n",
    "    print('x =', x)      # prints the current global value (50)\n",
    "    x = 2                # modifies the global variable 'x'\n",
    "    print('Changes global x to:', x)  # confirms new value (2)\n",
    "\n",
    "func()                   # call the function, which changes global x\n",
    "print('x =', x)          # prints 2 → reflects the updated global value"
   ]
  }
 ],
 "metadata": {
  "kernelspec": {
   "display_name": "Python 3",
   "language": "python",
   "name": "python3"
  },
  "language_info": {
   "codemirror_mode": {
    "name": "ipython",
    "version": 3
   },
   "file_extension": ".py",
   "mimetype": "text/x-python",
   "name": "python",
   "nbconvert_exporter": "python",
   "pygments_lexer": "ipython3",
   "version": "3.13.1"
  }
 },
 "nbformat": 4,
 "nbformat_minor": 5
}
